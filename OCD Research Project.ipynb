{
 "cells": [
  {
   "cell_type": "markdown",
   "metadata": {},
   "source": [
    "## Analysis of OCD Rates in College Students 2019 – date\n",
    "#### Research Problem: Increased cases of self-reported Obsessive Compulsive Disorder (OCD) cases amongst students\n",
    "#### Objectives: Identify causes of higher incidence and factors correlated with OCD Methodology: Perform analysis on survey data from American Health Association – National College Health Assessment, to evaluate mental health issue of OCD by utilizing descriptive and inferential statistics"
   ]
  },
  {
   "cell_type": "code",
   "execution_count": 1,
   "metadata": {},
   "outputs": [],
   "source": [
    "import pandas as pd\n",
    "import numpy as np\n",
    "import matplotlib.pyplot as plt"
   ]
  },
  {
   "cell_type": "markdown",
   "metadata": {},
   "source": [
    "<b>Upload and Clean SurveyI SurveyII SurveyII</b>"
   ]
  },
  {
   "cell_type": "code",
   "execution_count": 3,
   "metadata": {},
   "outputs": [],
   "source": [
    "TextFileReader1 = pd.read_csv(r'SurveyI.csv',error_bad_lines=False,chunksize=1000)\n",
    "\n",
    "df1List = []\n",
    "for df in TextFileReader1:\n",
    "    df1List.append(df)\n",
    "    \n",
    "df1 = pd.concat(df1List,sort=False)\n",
    "df1 = df1.replace(' ',-1)\n",
    "df1 = df1.astype('int64',errors='ignore')\n",
    "df1 = df1.apply(lambda x: x.astype('int64',errors='ignore'))\n",
    "df1 = df1.apply(lambda x: x.astype('float64',errors='ignore') if x.dtype == 'O' else x)"
   ]
  },
  {
   "cell_type": "code",
   "execution_count": 4,
   "metadata": {},
   "outputs": [],
   "source": [
    "TextFileReader2 = pd.read_csv(r'SurveyII.csv',error_bad_lines=False,chunksize=1000)\n",
    "\n",
    "dfList2 = []\n",
    "for df in TextFileReader2:\n",
    "    dfList2.append(df)\n",
    "    \n",
    "df2 = pd.concat(dfList2,sort=False)\n",
    "df2 = df2.replace(' ',-1)\n",
    "df2 = df2.astype('int64',errors='ignore')\n",
    "df2 = df2.apply(lambda x: x.astype('int64',errors='ignore'))\n",
    "df2 = df2.apply(lambda x: x.astype('float64',errors='ignore') if x.dtype == 'O' else x)"
   ]
  },
  {
   "cell_type": "code",
   "execution_count": 5,
   "metadata": {},
   "outputs": [],
   "source": [
    "TextFileReader3 = pd.read_csv(r'SurveyIIInew.csv',error_bad_lines=False,chunksize=1000)\n",
    "\n",
    "dfList3 = []\n",
    "for df in TextFileReader3:\n",
    "    dfList3.append(df)\n",
    "    \n",
    "df3 = pd.concat(dfList3,sort=False)\n",
    "df3 = df3.replace(' ',-1) #updating null values to -1\n",
    "df3 = df3.astype('int64',errors='ignore')\n",
    "df3 = df3.apply(lambda x: x.astype('int64',errors='ignore'))\n",
    "df3 = df3.apply(lambda x: x.astype('float64',errors='ignore') if x.dtype == 'O' else x)"
   ]
  },
  {
   "cell_type": "markdown",
   "metadata": {},
   "source": [
    "<h4>Counts of People reported to have OCD</h2>"
   ]
  },
  {
   "cell_type": "code",
   "execution_count": 6,
   "metadata": {},
   "outputs": [
    {
     "name": "stdout",
     "output_type": "stream",
     "text": [
      "Survey I\n",
      " 1    366332\n",
      "-1      5616\n",
      " 2      3123\n",
      " 3      1604\n",
      " 5      1494\n",
      " 4      1061\n",
      " 6       354\n",
      "Name: NQ31B1, dtype: int64\n",
      "Survey II\n",
      " 1    482168\n",
      "-1      7300\n",
      " 2      4972\n",
      " 5      2215\n",
      " 3      2160\n",
      " 4      1573\n",
      " 6       472\n",
      "Name: NQ31B1, dtype: int64\n",
      "Survey III\n",
      " 1    407583\n",
      "-1      5734\n",
      " 2      5658\n",
      " 3      2505\n",
      " 5      2435\n",
      " 4      2073\n",
      " 6       437\n",
      "Name: NQ31B1, dtype: int64\n"
     ]
    }
   ],
   "source": [
    "print(\"Survey I\")\n",
    "print(df1['NQ31B1'].value_counts())\n",
    "print(\"Survey II\")\n",
    "print(df2['NQ31B1'].value_counts())\n",
    "print(\"Survey III\")\n",
    "print(df3['NQ31B1'].value_counts())"
   ]
  },
  {
   "cell_type": "markdown",
   "metadata": {},
   "source": [
    "<h4>Removing Data Points with implausible height weight and BMI</h4>"
   ]
  },
  {
   "cell_type": "code",
   "execution_count": 7,
   "metadata": {},
   "outputs": [],
   "source": [
    "#height\n",
    "df1['NQ49'] = df1.NQ49_FT * 12 + df1.NQ49_IN"
   ]
  },
  {
   "cell_type": "code",
   "execution_count": 8,
   "metadata": {},
   "outputs": [
    {
     "name": "stdout",
     "output_type": "stream",
     "text": [
      "Data before trim: 379584\n",
      "Data after trim: 363940\n"
     ]
    }
   ],
   "source": [
    "df1_bool = ((df1['NQ49'] >= 47.2441) & (df1['NQ49'] <= 82.6772) & (df1['NQ50'] >= 77.16) & (df1['NQ50'] <= 396.832) & (df1['BMI'] >= 16) & (df1['BMI'] <= 65))\n",
    "print(\"Data before trim: \" + str(len(df1)))\n",
    "print(\"Data after trim: \" + str(len(df1[df1_bool])))\n",
    "df1 = df1[df1_bool]"
   ]
  },
  {
   "cell_type": "code",
   "execution_count": 9,
   "metadata": {},
   "outputs": [
    {
     "name": "stdout",
     "output_type": "stream",
     "text": [
      "Data before trim: 500860\n",
      "Data after trim: 482185\n"
     ]
    }
   ],
   "source": [
    "df2_bool = ((df2['NQ49'] >= 47.2441) & (df2['NQ49'] <= 82.6772) & (df2['NQ50'] >= 77.16) & (df2['NQ50'] <= 396.832) & (df2['BMI'] >= 16) & (df2['BMI'] <= 65))\n",
    "print(\"Data before trim: \" + str(len(df2)))\n",
    "print(\"Data after trim: \" + str(len(df2[df2_bool])))\n",
    "df2 = df2[df2_bool]"
   ]
  },
  {
   "cell_type": "code",
   "execution_count": 10,
   "metadata": {},
   "outputs": [
    {
     "name": "stdout",
     "output_type": "stream",
     "text": [
      "Data before trim: 426425\n",
      "Data after trim: 396260\n"
     ]
    }
   ],
   "source": [
    "df3_bool = ((df3['NQ49'] >= 47.2441) & (df3['NQ49'] <= 82.6772) & (df3['NQ50'] >= 77.16) & (df3['NQ50'] <= 396.832) & (df3['BMI'] >= 16) & (df3['BMI'] <= 65))\n",
    "print(\"Data before trim: \" + str(len(df3)))\n",
    "print(\"Data after trim: \" + str(len(df3[df3_bool])))\n",
    "df3 = df3[df3_bool]"
   ]
  },
  {
   "cell_type": "markdown",
   "metadata": {},
   "source": [
    "<h4>Merge Data Frames</h4>"
   ]
  },
  {
   "cell_type": "code",
   "execution_count": 11,
   "metadata": {},
   "outputs": [],
   "source": [
    "data_ocd = pd.concat([df1,df2,df3],axis=0,sort = True).reset_index()"
   ]
  },
  {
   "cell_type": "code",
   "execution_count": 12,
   "metadata": {},
   "outputs": [],
   "source": [
    "#removing columns with more than 10% of null values\n",
    "data_ocd = data_ocd.loc[:, data_ocd.isnull().mean() < .1]"
   ]
  },
  {
   "cell_type": "markdown",
   "metadata": {},
   "source": [
    "<h4>Delete Unanswered Responses</h4>"
   ]
  },
  {
   "cell_type": "code",
   "execution_count": 13,
   "metadata": {},
   "outputs": [],
   "source": [
    "data_ocd = data_ocd[data_ocd['NQ31B1'] != -1] #OCD Column"
   ]
  },
  {
   "cell_type": "markdown",
   "metadata": {},
   "source": [
    "<h4>Total survey results</h4>"
   ]
  },
  {
   "cell_type": "code",
   "execution_count": 14,
   "metadata": {},
   "outputs": [
    {
     "data": {
      "text/plain": [
       "1    1205838\n",
       "2      12951\n",
       "3       5864\n",
       "5       5808\n",
       "4       4437\n",
       "6       1075\n",
       "Name: NQ31B1, dtype: int64"
      ]
     },
     "execution_count": 14,
     "metadata": {},
     "output_type": "execute_result"
    }
   ],
   "source": [
    "data_ocd['NQ31B1'].value_counts()"
   ]
  },
  {
   "cell_type": "markdown",
   "metadata": {},
   "source": [
    "<h4>After Deleting Unanswered Responses</h4>"
   ]
  },
  {
   "cell_type": "code",
   "execution_count": 15,
   "metadata": {},
   "outputs": [
    {
     "name": "stderr",
     "output_type": "stream",
     "text": [
      "/Users/leo/opt/anaconda3/lib/python3.7/site-packages/ipykernel_launcher.py:1: SettingWithCopyWarning: \n",
      "A value is trying to be set on a copy of a slice from a DataFrame.\n",
      "Try using .loc[row_indexer,col_indexer] = value instead\n",
      "\n",
      "See the caveats in the documentation: https://pandas.pydata.org/pandas-docs/stable/user_guide/indexing.html#returning-a-view-versus-a-copy\n",
      "  \"\"\"Entry point for launching an IPython kernel.\n",
      "/Users/leo/opt/anaconda3/lib/python3.7/site-packages/ipykernel_launcher.py:2: SettingWithCopyWarning: \n",
      "A value is trying to be set on a copy of a slice from a DataFrame.\n",
      "Try using .loc[row_indexer,col_indexer] = value instead\n",
      "\n",
      "See the caveats in the documentation: https://pandas.pydata.org/pandas-docs/stable/user_guide/indexing.html#returning-a-view-versus-a-copy\n",
      "  \n",
      "/Users/leo/opt/anaconda3/lib/python3.7/site-packages/ipykernel_launcher.py:3: SettingWithCopyWarning: \n",
      "A value is trying to be set on a copy of a slice from a DataFrame.\n",
      "Try using .loc[row_indexer,col_indexer] = value instead\n",
      "\n",
      "See the caveats in the documentation: https://pandas.pydata.org/pandas-docs/stable/user_guide/indexing.html#returning-a-view-versus-a-copy\n",
      "  This is separate from the ipykernel package so we can avoid doing imports until\n"
     ]
    }
   ],
   "source": [
    "data_ocd[data_ocd['HBCU']==-1]['HBCU'] = 0\n",
    "data_ocd[data_ocd['HHE']==-1]['HHE'] = 0\n",
    "data_ocd[data_ocd['HS']==-1]['HS'] = 0\n"
   ]
  },
  {
   "cell_type": "markdown",
   "metadata": {},
   "source": [
    "<h4>Create Label for Plot</h4>"
   ]
  },
  {
   "cell_type": "code",
   "execution_count": 16,
   "metadata": {},
   "outputs": [
    {
     "data": {
      "text/plain": [
       "['Fall2008',\n",
       " 'Spring2009',\n",
       " 'Fall2009',\n",
       " 'Spring2010',\n",
       " 'Fall2010',\n",
       " 'Spring2011',\n",
       " 'Fall2011',\n",
       " 'Spring2012',\n",
       " 'Fall2012',\n",
       " 'Spring2013',\n",
       " 'Fall2013',\n",
       " 'Spring2014',\n",
       " 'Fall2014',\n",
       " 'Spring2015',\n",
       " 'Fall2015',\n",
       " 'Spring2016',\n",
       " 'Fall2016',\n",
       " 'Spring2017',\n",
       " 'Fall2017',\n",
       " 'Spring2018',\n",
       " 'Fall2018',\n",
       " 'Spring2019']"
      ]
     },
     "execution_count": 16,
     "metadata": {},
     "output_type": "execute_result"
    }
   ],
   "source": [
    "label_ = []\n",
    "k = 0\n",
    "j = 2008\n",
    "for i in range(18,40):\n",
    "    if(k == 0):\n",
    "        label_.append(\"Fall\" + str(j))\n",
    "        k = 1\n",
    "        j += 1\n",
    "    else:\n",
    "        label_.append(\"Spring\" + str(j))\n",
    "        k = 0\n",
    "        \n",
    "label_"
   ]
  },
  {
   "cell_type": "markdown",
   "metadata": {},
   "source": [
    "<h4>OCD Rate Between Terms</h4>"
   ]
  },
  {
   "cell_type": "code",
   "execution_count": 17,
   "metadata": {},
   "outputs": [],
   "source": [
    "def add_value_labels(ax, spacing=5):\n",
    "    \"\"\"Add labels to the end of each bar in a bar chart.\n",
    "\n",
    "    Arguments:\n",
    "        ax (matplotlib.axes.Axes): The matplotlib object containing the axes\n",
    "            of the plot to annotate.\n",
    "        spacing (int): The distance between the labels and the bars.\n",
    "    \"\"\"\n",
    "\n",
    "    # For each bar: Place a label\n",
    "    for rect in ax.patches:\n",
    "        # Get X and Y placement of label from rect.\n",
    "        y_value = rect.get_height()\n",
    "        x_value = rect.get_x() + rect.get_width() / 2\n",
    "\n",
    "        # Number of points between bar and label. Change to your liking.\n",
    "        space = spacing\n",
    "        # Vertical alignment for positive values\n",
    "        va = 'bottom'\n",
    "\n",
    "        # If value of bar is negative: Place label below bar\n",
    "        if y_value < 0:\n",
    "            # Invert space to place label below\n",
    "            space *= -1\n",
    "            # Vertically align label at top\n",
    "            va = 'top'\n",
    "\n",
    "        # Use Y value as label and format number with one decimal place\n",
    "        label = \"{:.2f}%\".format(y_value*100)\n",
    "        #label = str(label * 100) + \"%\"\n",
    "        \n",
    "        # Create annotation\n",
    "        ax.annotate(\n",
    "            label,                      # Use `label` as label\n",
    "            (x_value, y_value),         # Place label at end of the bar\n",
    "            xytext=(0, space),          # Vertically shift label by `space`\n",
    "            textcoords=\"offset points\", # Interpret `xytext` as offset in points\n",
    "            ha='center',                # Horizontally center label\n",
    "            va=va)                      # Vertically align label differently for\n"
   ]
  },
  {
   "cell_type": "code",
   "execution_count": 18,
   "metadata": {},
   "outputs": [
    {
     "data": {
      "image/png": "[encoded data removed]",
      "text/plain": [
       "<Figure size 1224x432 with 1 Axes>"
      ]
     },
     "metadata": {
      "needs_background": "light"
     },
     "output_type": "display_data"
    }
   ],
   "source": [
    "def plot_ocd_ratio(data_ocd):  \n",
    "    \n",
    "    ratio = []\n",
    "    \n",
    "    for x,answer in enumerate(data_ocd.STUDY.value_counts().sort_index(ascending=True).index.values):\n",
    "        data = data_ocd[(data_ocd['STUDY'] == answer)]\n",
    "        ratio.append(data.NQ31B1[(data['NQ31B1'] != 1) & (data['NQ31B1'] != -1)].value_counts().sum() / len(data.NQ31B1))\n",
    "\n",
    "    ocd_plot = pd.DataFrame({'lab':label_, 'val':ratio})\n",
    "    #plt.bar(ocd_plot,label=\"Percent of people who reported OCD\",figsize=(18,6))\n",
    "    ax = ocd_plot.plot.bar(x='lab',y='val',label=\"Percent of people who reported OCD\",figsize=(17,6),color=\"#1f77b4\")\n",
    "    add_value_labels(ax)\n",
    "    \n",
    "    return ocd_plot, ratio\n",
    "\n",
    "ocd_plot, ratio = plot_ocd_ratio(data_ocd)"
   ]
  },
  {
   "cell_type": "markdown",
   "metadata": {},
   "source": [
    "<h2>Curve Fitting</h2>"
   ]
  },
  {
   "cell_type": "code",
   "execution_count": 19,
   "metadata": {},
   "outputs": [
    {
     "name": "stdout",
     "output_type": "stream",
     "text": [
      "0.0007746875207496573\n"
     ]
    }
   ],
   "source": [
    "def trendline(data, order=1):\n",
    "    coeffs = np.polyfit(data.index.values, list(data), order)\n",
    "    slope = coeffs[-2]\n",
    "    return float(slope)\n",
    "\n",
    "slope = trendline(pd.Series(ocd_plot['val']))\n",
    "print(slope)"
   ]
  },
  {
   "cell_type": "code",
   "execution_count": 20,
   "metadata": {},
   "outputs": [],
   "source": [
    "term = [0,1,2,3,4,5,6,7,8,9,10,11,12,13,14,15,16,17,18,19,20,21]\n",
    "curve = pd.DataFrame({'lab':term, 'val':ratio})"
   ]
  },
  {
   "cell_type": "markdown",
   "metadata": {},
   "source": [
    "Exponential Curve Fitting"
   ]
  },
  {
   "cell_type": "code",
   "execution_count": 21,
   "metadata": {},
   "outputs": [
    {
     "data": {
      "text/plain": [
       "array([-4.29060548e+02,  1.80560866e-06,  4.29077427e+02])"
      ]
     },
     "execution_count": 21,
     "metadata": {},
     "output_type": "execute_result"
    },
    {
     "data": {
      "image/png": "[encoded data removed]",
      "text/plain": [
       "<Figure size 432x288 with 1 Axes>"
      ]
     },
     "metadata": {
      "needs_background": "light"
     },
     "output_type": "display_data"
    }
   ],
   "source": [
    "from pylab import *\n",
    "from scipy.optimize import curve_fit\n",
    "def func(x, a, c, d):\n",
    "    return a*np.exp(-c*x)+d\n",
    "def func2(x, a, b):\n",
    "    return a*x+b\n",
    "popt, pcov = curve_fit(func, term, ratio, p0=(1, 1e-6, 1))\n",
    "xx = np.linspace(0, 20,1000)\n",
    "yy = func(xx, *popt)\n",
    "plt.plot(term,ratio,'ko')\n",
    "plt.plot(xx, yy)\n",
    "popt"
   ]
  },
  {
   "cell_type": "markdown",
   "metadata": {},
   "source": [
    "Linear Regression"
   ]
  },
  {
   "cell_type": "code",
   "execution_count": 22,
   "metadata": {},
   "outputs": [
    {
     "data": {
      "text/plain": [
       "array([0.00077469, 0.0168801 ])"
      ]
     },
     "execution_count": 22,
     "metadata": {},
     "output_type": "execute_result"
    },
    {
     "data": {
      "image/png": "[encoded data removed]",
      "text/plain": [
       "<Figure size 432x288 with 1 Axes>"
      ]
     },
     "metadata": {
      "needs_background": "light"
     },
     "output_type": "display_data"
    }
   ],
   "source": [
    "def func2(x, a, b):\n",
    "    return a*x+b\n",
    "popt, pcov = curve_fit(func2, term, ratio, p0=(1, 2))\n",
    "xx = np.linspace(0, 20,1000)\n",
    "yy = func2(xx, *popt)\n",
    "plt.plot(term,ratio,'ko')\n",
    "plt.plot(xx, yy)\n",
    "popt"
   ]
  },
  {
   "cell_type": "markdown",
   "metadata": {},
   "source": [
    "Conclusion: A linear fit seems like the correct fit to use"
   ]
  },
  {
   "cell_type": "code",
   "execution_count": 23,
   "metadata": {},
   "outputs": [
    {
     "data": {
      "text/html": [
       "<table class=\"simpletable\">\n",
       "<caption>OLS Regression Results</caption>\n",
       "<tr>\n",
       "  <th>Dep. Variable:</th>           <td>val</td>       <th>  R-squared:         </th> <td>   0.881</td>\n",
       "</tr>\n",
       "<tr>\n",
       "  <th>Model:</th>                   <td>OLS</td>       <th>  Adj. R-squared:    </th> <td>   0.875</td>\n",
       "</tr>\n",
       "<tr>\n",
       "  <th>Method:</th>             <td>Least Squares</td>  <th>  F-statistic:       </th> <td>   148.6</td>\n",
       "</tr>\n",
       "<tr>\n",
       "  <th>Date:</th>             <td>Sun, 14 Jun 2020</td> <th>  Prob (F-statistic):</th> <td>1.03e-10</td>\n",
       "</tr>\n",
       "<tr>\n",
       "  <th>Time:</th>                 <td>14:20:23</td>     <th>  Log-Likelihood:    </th> <td>  107.78</td>\n",
       "</tr>\n",
       "<tr>\n",
       "  <th>No. Observations:</th>      <td>    22</td>      <th>  AIC:               </th> <td>  -211.6</td>\n",
       "</tr>\n",
       "<tr>\n",
       "  <th>Df Residuals:</th>          <td>    20</td>      <th>  BIC:               </th> <td>  -209.4</td>\n",
       "</tr>\n",
       "<tr>\n",
       "  <th>Df Model:</th>              <td>     1</td>      <th>                     </th>     <td> </td>   \n",
       "</tr>\n",
       "<tr>\n",
       "  <th>Covariance Type:</th>      <td>nonrobust</td>    <th>                     </th>     <td> </td>   \n",
       "</tr>\n",
       "</table>\n",
       "<table class=\"simpletable\">\n",
       "<tr>\n",
       "      <td></td>         <th>coef</th>     <th>std err</th>      <th>t</th>      <th>P>|t|</th>  <th>[0.025</th>    <th>0.975]</th>  \n",
       "</tr>\n",
       "<tr>\n",
       "  <th>intercept</th> <td>    0.0169</td> <td>    0.001</td> <td>   21.648</td> <td> 0.000</td> <td>    0.015</td> <td>    0.019</td>\n",
       "</tr>\n",
       "<tr>\n",
       "  <th>lab</th>       <td>    0.0008</td> <td> 6.36e-05</td> <td>   12.188</td> <td> 0.000</td> <td>    0.001</td> <td>    0.001</td>\n",
       "</tr>\n",
       "</table>\n",
       "<table class=\"simpletable\">\n",
       "<tr>\n",
       "  <th>Omnibus:</th>       <td> 3.559</td> <th>  Durbin-Watson:     </th> <td>   1.176</td>\n",
       "</tr>\n",
       "<tr>\n",
       "  <th>Prob(Omnibus):</th> <td> 0.169</td> <th>  Jarque-Bera (JB):  </th> <td>   1.426</td>\n",
       "</tr>\n",
       "<tr>\n",
       "  <th>Skew:</th>          <td> 0.151</td> <th>  Prob(JB):          </th> <td>   0.490</td>\n",
       "</tr>\n",
       "<tr>\n",
       "  <th>Kurtosis:</th>      <td> 1.790</td> <th>  Cond. No.          </th> <td>    23.8</td>\n",
       "</tr>\n",
       "</table><br/><br/>Warnings:<br/>[1] Standard Errors assume that the covariance matrix of the errors is correctly specified."
      ],
      "text/plain": [
       "<class 'statsmodels.iolib.summary.Summary'>\n",
       "\"\"\"\n",
       "                            OLS Regression Results                            \n",
       "==============================================================================\n",
       "Dep. Variable:                    val   R-squared:                       0.881\n",
       "Model:                            OLS   Adj. R-squared:                  0.875\n",
       "Method:                 Least Squares   F-statistic:                     148.6\n",
       "Date:                Sun, 14 Jun 2020   Prob (F-statistic):           1.03e-10\n",
       "Time:                        14:20:23   Log-Likelihood:                 107.78\n",
       "No. Observations:                  22   AIC:                            -211.6\n",
       "Df Residuals:                      20   BIC:                            -209.4\n",
       "Df Model:                           1                                         \n",
       "Covariance Type:            nonrobust                                         \n",
       "==============================================================================\n",
       "                 coef    std err          t      P>|t|      [0.025      0.975]\n",
       "------------------------------------------------------------------------------\n",
       "intercept      0.0169      0.001     21.648      0.000       0.015       0.019\n",
       "lab            0.0008   6.36e-05     12.188      0.000       0.001       0.001\n",
       "==============================================================================\n",
       "Omnibus:                        3.559   Durbin-Watson:                   1.176\n",
       "Prob(Omnibus):                  0.169   Jarque-Bera (JB):                1.426\n",
       "Skew:                           0.151   Prob(JB):                        0.490\n",
       "Kurtosis:                       1.790   Cond. No.                         23.8\n",
       "==============================================================================\n",
       "\n",
       "Warnings:\n",
       "[1] Standard Errors assume that the covariance matrix of the errors is correctly specified.\n",
       "\"\"\""
      ]
     },
     "execution_count": 23,
     "metadata": {},
     "output_type": "execute_result"
    }
   ],
   "source": [
    "import statsmodels.api as sm\n",
    "curve['intercept']=1\n",
    "lm=sm.OLS(curve['val'],curve[['intercept','lab']])\n",
    "slr_results = lm.fit()\n",
    "slr_results.summary()"
   ]
  },
  {
   "cell_type": "markdown",
   "metadata": {},
   "source": [
    "H0: B = 0 Year has no effect on OCD rates. \n",
    "\n",
    "H1: B > 0 Year has positive linear relationship with OCD rates. \n",
    "\n",
    "The p value for the is very small. For a one sided test "
   ]
  },
  {
   "cell_type": "markdown",
   "metadata": {},
   "source": [
    "<h2>Dickey-Fuller test</h2>"
   ]
  },
  {
   "cell_type": "markdown",
   "metadata": {},
   "source": [
    "Ho: Time series is non-stationary\n",
    "\n",
    "H1: Time series is stationary"
   ]
  },
  {
   "cell_type": "code",
   "execution_count": 24,
   "metadata": {},
   "outputs": [],
   "source": [
    "from statsmodels.tsa.stattools import adfuller"
   ]
  },
  {
   "cell_type": "code",
   "execution_count": 25,
   "metadata": {},
   "outputs": [
    {
     "data": {
      "text/plain": [
       "[<matplotlib.lines.Line2D at 0x7fb86172c450>]"
      ]
     },
     "execution_count": 25,
     "metadata": {},
     "output_type": "execute_result"
    },
    {
     "data": {
      "image/png": "[encoded data removed]",
      "text/plain": [
       "<Figure size 432x288 with 1 Axes>"
      ]
     },
     "metadata": {
      "needs_background": "light"
     },
     "output_type": "display_data"
    }
   ],
   "source": [
    "plt.plot(curve['val'])"
   ]
  },
  {
   "cell_type": "code",
   "execution_count": 26,
   "metadata": {},
   "outputs": [
    {
     "name": "stdout",
     "output_type": "stream",
     "text": [
      "ADF Statistic: -0.535239\n",
      "p-value 0.884954\n",
      "Critical Values:\n",
      "\t1%: -4.138\n",
      "\t5%: -3.155\n",
      "\t10%: -2.714\n",
      "Failed to Reject Ho - Time series is Non-Stationary\n"
     ]
    }
   ],
   "source": [
    "X = curve['val'].values\n",
    "result = adfuller(X)\n",
    "print('ADF Statistic: %f' % result[0])\n",
    "print('p-value %f' % result[1])\n",
    "print('Critical Values:')\n",
    "for key, value in result[4].items():\n",
    "    print('\\t%s: %.3f' % (key,value))\n",
    "    \n",
    "if result[0] < result[4][\"5%\"]:\n",
    "    print(\"Reject H0 - Time Series is Stationary\")\n",
    "else:\n",
    "    print(\"Failed to Reject Ho - Time series is Non-Stationary\")"
   ]
  },
  {
   "cell_type": "markdown",
   "metadata": {},
   "source": [
    "<h4>Stacked Bar Chart</h4>"
   ]
  },
  {
   "cell_type": "code",
   "execution_count": 27,
   "metadata": {},
   "outputs": [
    {
     "data": {
      "text/plain": [
       "0    1205838\n",
       "2      17184\n",
       "1      12951\n",
       "Name: Treated, dtype: int64"
      ]
     },
     "execution_count": 27,
     "metadata": {},
     "output_type": "execute_result"
    }
   ],
   "source": [
    "data_ocd['Treated'] = 2\n",
    "data_ocd.loc[data_ocd['NQ31B1'] == -1,'Treated'] = 0\n",
    "data_ocd.loc[data_ocd['NQ31B1'] == 1,'Treated'] = 0\n",
    "data_ocd.loc[data_ocd['NQ31B1'] == 2,'Treated'] = 1\n",
    "data_ocd.Treated.value_counts()"
   ]
  },
  {
   "cell_type": "code",
   "execution_count": 28,
   "metadata": {},
   "outputs": [],
   "source": [
    "study_value = data_ocd['STUDY'].value_counts(sort=False)\n",
    "pivot_df = data_ocd[data_ocd.Treated != 0].pivot_table(index = ['STUDY'],columns=['Treated'],aggfunc = 'size',observed=True)\n",
    "pivot_df = pivot_df.div(study_value,axis=0)\n",
    "pivot_df = pivot_df.multiply(100)"
   ]
  },
  {
   "cell_type": "code",
   "execution_count": 34,
   "metadata": {},
   "outputs": [],
   "source": [
    "sum_of_rows = pivot_df.sum(axis=1)\n",
    "normalized_array = pivot_df / sum_of_rows[:, np.newaxis]"
   ]
  },
  {
   "cell_type": "code",
   "execution_count": 29,
   "metadata": {},
   "outputs": [
    {
     "data": {
      "image/png": "[encoded data removed]",
      "text/plain": [
       "<Figure size 1224x432 with 1 Axes>"
      ]
     },
     "metadata": {
      "needs_background": "light"
     },
     "output_type": "display_data"
    }
   ],
   "source": [
    "ax = pivot_df.plot.bar(stacked=True,figsize=(17,6))\n",
    "ax.set_xticklabels(label_)\n",
    "ax.set_ylabel(\"Percentage\")\n",
    "height_prev = np.zeros(22)\n",
    "#print(len(height_prev))\n",
    "#print(height_prev)\n",
    "patch = 0\n",
    "for i in range(1,3):\n",
    "    #print(height_prev)\n",
    "    j = 0\n",
    "    for rec, label in zip(ax.patches,pivot_df[i].round(2).astype(str)): \n",
    "        #print(rec)\n",
    "        height = rec.get_height()\n",
    "        height = ax.patches[patch].get_height()\n",
    "        #print(height,height_prev[j],(height/2 + height_prev[j]))\n",
    "        ax.text(rec.get_x() + rec.get_width() / 2, (height/2 + height_prev[j]), label,\n",
    "               ha = 'center', va='bottom')\n",
    "        #print(height,height_prev[j])\n",
    "        height_prev[j] = height + height_prev[j]\n",
    "        j += 1\n",
    "        patch += 1\n",
    "\n",
    "ax.set_xticklabels(label_);"
   ]
  },
  {
   "cell_type": "code",
   "execution_count": 35,
   "metadata": {},
   "outputs": [
    {
     "data": {
      "image/png": "[encoded data removed]",
      "text/plain": [
       "<Figure size 1224x432 with 1 Axes>"
      ]
     },
     "metadata": {
      "needs_background": "light"
     },
     "output_type": "display_data"
    }
   ],
   "source": [
    "ax = normalized_array.plot.bar(stacked=True,figsize=(17,6))\n",
    "ax.set_xticklabels(label_)\n",
    "ax.set_ylabel(\"Percentage\")\n",
    "height_prev = np.zeros(22)\n",
    "#print(len(height_prev))\n",
    "#print(height_prev)\n",
    "patch = 0\n",
    "for i in range(1,3):\n",
    "    #print(height_prev)\n",
    "    j = 0\n",
    "    for rec, label in zip(ax.patches,normalized_array[i].round(2).astype(str)): \n",
    "        #print(rec)\n",
    "        height = rec.get_height()\n",
    "        height = ax.patches[patch].get_height()\n",
    "        #print(height,height_prev[j],(height/2 + height_prev[j]))\n",
    "        ax.text(rec.get_x() + rec.get_width() / 2, (height/2 + height_prev[j]), label,\n",
    "               ha = 'center', va='bottom')\n",
    "        #print(height,height_prev[j])\n",
    "        height_prev[j] = height + height_prev[j]\n",
    "        j += 1\n",
    "        patch += 1\n",
    "\n",
    "ax.set_xticklabels(label_);"
   ]
  },
  {
   "cell_type": "code",
   "execution_count": 30,
   "metadata": {},
   "outputs": [
    {
     "name": "stdout",
     "output_type": "stream",
     "text": [
      "                            OLS Regression Results                            \n",
      "==============================================================================\n",
      "Dep. Variable:                      y   R-squared:                       0.828\n",
      "Model:                            OLS   Adj. R-squared:                  0.819\n",
      "Method:                 Least Squares   F-statistic:                     96.19\n",
      "Date:                Sun, 14 Jun 2020   Prob (F-statistic):           4.38e-09\n",
      "Time:                        14:20:24   Log-Likelihood:                 19.211\n",
      "No. Observations:                  22   AIC:                            -34.42\n",
      "Df Residuals:                      20   BIC:                            -32.24\n",
      "Df Model:                           1                                         \n",
      "Covariance Type:            nonrobust                                         \n",
      "==============================================================================\n",
      "                 coef    std err          t      P>|t|      [0.025      0.975]\n",
      "------------------------------------------------------------------------------\n",
      "const          0.7241      0.044     16.574      0.000       0.633       0.815\n",
      "x1             0.0349      0.004      9.807      0.000       0.027       0.042\n",
      "==============================================================================\n",
      "Omnibus:                        6.338   Durbin-Watson:                   2.215\n",
      "Prob(Omnibus):                  0.042   Jarque-Bera (JB):                4.190\n",
      "Skew:                           1.003   Prob(JB):                        0.123\n",
      "Kurtosis:                       3.738   Cond. No.                         23.8\n",
      "==============================================================================\n",
      "\n",
      "Warnings:\n",
      "[1] Standard Errors assume that the covariance matrix of the errors is correctly specified.\n",
      "                            OLS Regression Results                            \n",
      "==============================================================================\n",
      "Dep. Variable:                      y   R-squared:                       0.773\n",
      "Model:                            OLS   Adj. R-squared:                  0.761\n",
      "Method:                 Least Squares   F-statistic:                     68.05\n",
      "Date:                Sun, 14 Jun 2020   Prob (F-statistic):           7.23e-08\n",
      "Time:                        14:20:24   Log-Likelihood:                 11.067\n",
      "No. Observations:                  22   AIC:                            -18.13\n",
      "Df Residuals:                      20   BIC:                            -15.95\n",
      "Df Model:                           1                                         \n",
      "Covariance Type:            nonrobust                                         \n",
      "==============================================================================\n",
      "                 coef    std err          t      P>|t|      [0.025      0.975]\n",
      "------------------------------------------------------------------------------\n",
      "const          0.9639      0.063     15.235      0.000       0.832       1.096\n",
      "x1             0.0425      0.005      8.249      0.000       0.032       0.053\n",
      "==============================================================================\n",
      "Omnibus:                        1.706   Durbin-Watson:                   0.673\n",
      "Prob(Omnibus):                  0.426   Jarque-Bera (JB):                1.073\n",
      "Skew:                           0.207   Prob(JB):                        0.585\n",
      "Kurtosis:                       2.000   Cond. No.                         23.8\n",
      "==============================================================================\n",
      "\n",
      "Warnings:\n",
      "[1] Standard Errors assume that the covariance matrix of the errors is correctly specified.\n"
     ]
    }
   ],
   "source": [
    "import statsmodels.api as sm\n",
    "from scipy import stats\n",
    "\n",
    "X_1 = np.array(range(len(pivot_df[1]))).reshape(-1,1)\n",
    "y_1 = pivot_df[1].values\n",
    "y_2 = pivot_df[2].values\n",
    "\n",
    "X2 = sm.add_constant(X_1)\n",
    "est_1 = sm.OLS(y_1, X2)\n",
    "est_2 = sm.OLS(y_2, X2)\n",
    "est1 = est_1.fit()\n",
    "est2 = est_2.fit()\n",
    "print(est1.summary())\n",
    "print(est2.summary())\n",
    "\n"
   ]
  },
  {
   "cell_type": "markdown",
   "metadata": {},
   "source": [
    "#### Basically, to ask the question, as more people are reporting OCD are they also getting treatment?"
   ]
  },
  {
   "cell_type": "markdown",
   "metadata": {},
   "source": [
    "## Logistic Regression"
   ]
  },
  {
   "cell_type": "code",
   "execution_count": 30,
   "metadata": {},
   "outputs": [],
   "source": [
    "for column in data_ocd.columns:\n",
    "    if data_ocd[column].dtypes == 'int64':\n",
    "        data_ocd[column] = data_ocd[column].astype('category')\n"
   ]
  },
  {
   "cell_type": "code",
   "execution_count": 31,
   "metadata": {},
   "outputs": [],
   "source": [
    "from sklearn import metrics\n",
    "from sklearn.model_selection import train_test_split\n",
    "from sklearn.linear_model import LogisticRegression\n",
    "from tabulate import tabulate\n",
    "import pandas as pd\n",
    "import numpy as np"
   ]
  },
  {
   "cell_type": "code",
   "execution_count": null,
   "metadata": {},
   "outputs": [],
   "source": [
    "##remember to sample \n",
    "\n",
    "X = data_ocd.loc[:, data_ocd.columns != 'NQ31B1']\n",
    "y = data_ocd.NQ31B1\n",
    "    \n",
    "X_train, X_test, y_train, y_test = train_test_split(X, y, test_size=0.2, random_state=42)\n"
   ]
  },
  {
   "cell_type": "code",
   "execution_count": null,
   "metadata": {},
   "outputs": [],
   "source": [
    "log_reg_model = LogisticRegression(solver = 'saga', penalty='l1', C=0.01)\n",
    "log_reg_model.fit(X_train, y_train)\n",
    "\n",
    "# use the model to make predictions with the test data\n",
    "#y_test = y_test.reshape(-1, 1)\n",
    "y_pred = log_reg_model.predict(X_test)\n",
    "# how did our model perform?\n",
    "count_misclassified = (y_test != y_pred).sum()\n",
    "print('Misclassified samples: {}'.format(count_misclassified))\n",
    "accuracy = metrics.accuracy_score(y_test, y_pred)\n",
    "print('Accuracy: {:.2f}'.format(accuracy))\n",
    "\n",
    "print(tabulate( pd.DataFrame(sorted(zip(X_train.columns, model.coef_[0]),\n",
    "      key = lambda x:x[1],\n",
    "      reverse=True)[:15]), tablefmt='psql'))\n"
   ]
  },
  {
   "cell_type": "markdown",
   "metadata": {},
   "source": [
    "### Random Forest"
   ]
  },
  {
   "cell_type": "code",
   "execution_count": 59,
   "metadata": {},
   "outputs": [
    {
     "name": "stdout",
     "output_type": "stream",
     "text": [
      "Misclassified samples: 101\n",
      "Accuracy: 0.99\n",
      "+----+---------+------------+\n",
      "|  0 | Treated | 0.52722    |\n",
      "|  1 | NQ31A2  | 0.0371288  |\n",
      "|  2 | NQ31B2  | 0.0236196  |\n",
      "|  3 | NQ31A6  | 0.0198476  |\n",
      "|  4 | PERMID  | 0.019452   |\n",
      "|  5 | BMI     | 0.0189266  |\n",
      "|  6 | NQ50    | 0.0167436  |\n",
      "|  7 | NQ49    | 0.0167392  |\n",
      "|  8 | NQ31B3  | 0.0154521  |\n",
      "|  9 | BAC     | 0.0147836  |\n",
      "| 10 | STUDY   | 0.0147171  |\n",
      "| 11 | NQ46    | 0.0133245  |\n",
      "| 12 | NQ65G   | 0.0121498  |\n",
      "| 13 | NQ51    | 0.0101401  |\n",
      "| 14 | NQ31A3  | 0.00921356 |\n",
      "+----+---------+------------+\n"
     ]
    }
   ],
   "source": [
    "from sklearn.ensemble import RandomForestClassifier\n",
    "from sklearn.feature_selection import SelectFromModel\n",
    "\n",
    "random_forest = RandomForestClassifier(n_estimators = 2)\n",
    "random_forest.fit(X_train, y_train)\n",
    "\n",
    "y_pred = random_forest.predict(X_test)\n",
    "# how did our model perform?\n",
    "count_misclassified = (y_test != y_pred).sum()\n",
    "print('Misclassified samples: {}'.format(count_misclassified))\n",
    "accuracy = metrics.accuracy_score(y_test, y_pred)\n",
    "print('Accuracy: {:.2f}'.format(accuracy))\n",
    "\n",
    "print(tabulate(\n",
    "    pd.DataFrame( sorted(zip(X_train.columns, sel.estimator_.feature_importances_),\n",
    "      key = lambda x:x[1],\n",
    "      reverse=True)[:15]) , tablefmt='psql'))\n",
    "\n"
   ]
  },
  {
   "cell_type": "markdown",
   "metadata": {},
   "source": [
    "## Cramer's V"
   ]
  },
  {
   "cell_type": "code",
   "execution_count": 43,
   "metadata": {},
   "outputs": [
    {
     "name": "stderr",
     "output_type": "stream",
     "text": [
      "/Users/hojinlee/opt/anaconda3/lib/python3.7/site-packages/ipykernel_launcher.py:24: FutureWarning: Method .as_matrix will be removed in a future version. Use .values instead.\n",
      "/Users/hojinlee/opt/anaconda3/lib/python3.7/site-packages/ipykernel_launcher.py:17: RuntimeWarning: invalid value encountered in double_scalars\n"
     ]
    },
    {
     "name": "stdout",
     "output_type": "stream",
     "text": [
      "+----+--------+----------+\n",
      "|  0 | NQ31B1 | 1        |\n",
      "|  1 | NQ65G  | 0.240988 |\n",
      "|  2 | NQ31B2 | 0.219023 |\n",
      "|  3 | NQ31A2 | 0.213537 |\n",
      "|  4 | NQ31B3 | 0.213232 |\n",
      "|  5 | NQ34B  | 0.212883 |\n",
      "|  6 | NQ31B4 | 0.170253 |\n",
      "|  7 | NQ31A6 | 0.163932 |\n",
      "|  8 | NQ34C  | 0.157631 |\n",
      "|  9 | NQ34A  | 0.145421 |\n",
      "| 10 | NQ31A4 | 0.141073 |\n",
      "| 11 | NQ31B6 | 0.137707 |\n",
      "| 12 | NQ31A7 | 0.125315 |\n",
      "| 13 | NQ31A3 | 0.125052 |\n",
      "| 14 | NQ31B7 | 0.124918 |\n",
      "+----+--------+----------+\n"
     ]
    }
   ],
   "source": [
    "#https://towardsdatascience.com/the-search-for-categorical-correlation-a1cf7f1888c9\n",
    "import scipy.stats as ss\n",
    "import operator\n",
    "\n",
    "def cramers_v(confusion_matrix):\n",
    "    \"\"\" calculate Cramers V statistic for categorial-categorial association.\n",
    "        uses correction from Bergsma and Wicher,\n",
    "        Journal of the Korean Statistical Society 42 (2013): 323-328\n",
    "    \"\"\"\n",
    "    chi2 = ss.chi2_contingency(confusion_matrix)[0]\n",
    "    n = confusion_matrix.sum()\n",
    "    phi2 = chi2 / n\n",
    "    r, k = confusion_matrix.shape\n",
    "    phi2corr = max(0, phi2 - ((k-1)*(r-1))/(n-1))\n",
    "    rcorr = r - ((r-1)**2)/(n-1)\n",
    "    kcorr = k - ((k-1)**2)/(n-1)\n",
    "    return np.sqrt(phi2corr / min((kcorr-1), (rcorr-1)))\n",
    "\n",
    "corDict = {}\n",
    "for col in list(data_ocd.select_dtypes(include=['category']).columns):\n",
    "    column = [col, \"NQ31B1\"]\n",
    "    temp_crammer = data_ocd[(data_ocd[col] != -1) & (~data_ocd[col].isnull())]\n",
    "    if not temp_crammer.empty:\n",
    "        confusion_matrix = pd.crosstab(temp_crammer[col], temp_crammer[\"NQ31B1\"]).as_matrix()\n",
    "        corDict[col] = cramers_v(confusion_matrix)\n",
    "    \n",
    "sorted_d = sorted(corDict.items(), key=operator.itemgetter(1), reverse=True)\n",
    "\n",
    "print(tabulate(pd.DataFrame(sorted_d[0:16]), tablefmt='psql'))"
   ]
  },
  {
   "cell_type": "code",
   "execution_count": 52,
   "metadata": {},
   "outputs": [
    {
     "name": "stdout",
     "output_type": "stream",
     "text": [
      "+---+------+-------------+\n",
      "| 0 | BAC  | 0.000515665 |\n",
      "| 1 | NQ49 | 0.00045962  |\n",
      "| 2 | BMI  | 0.000153547 |\n",
      "| 3 | NQ46 | 0.000145523 |\n",
      "| 4 | NQ50 | 6.07541e-05 |\n",
      "+---+------+-------------+\n"
     ]
    }
   ],
   "source": [
    "#https://towardsdatascience.com/the-search-for-categorical-correlation-a1cf7f1888c9\n",
    "import scipy.stats as ss\n",
    "import operator\n",
    "\n",
    "def correlation_ratio(categories, measurements):\n",
    "    fcat, _ = pd.factorize(categories)\n",
    "    cat_num = np.max(fcat)+1\n",
    "    y_avg_array = np.zeros(cat_num)\n",
    "    n_array = np.zeros(cat_num)\n",
    "    for i in range(0,cat_num):\n",
    "        cat_measures = measurements[np.argwhere(fcat == i).flatten()]\n",
    "        #cat_measures[np.isnan(cat_measures)] = 0\n",
    "        n_array[i] = len(cat_measures)\n",
    "        y_avg_array[i] = np.average(cat_measures)\n",
    "    y_total_avg = np.sum(np.multiply(y_avg_array,n_array))/np.sum(n_array)\n",
    "    numerator = np.sum(np.multiply(n_array,np.power(np.subtract(y_avg_array,y_total_avg),2)))\n",
    "    denominator = np.sum(np.power(np.subtract(measurements,y_total_avg),2))\n",
    "    if numerator == 0:\n",
    "        eta = 0.0\n",
    "    else:\n",
    "        eta = numerator/denominator\n",
    "    return eta\n",
    "\n",
    "corDict = {}\n",
    "for col in list(data_ocd.select_dtypes(exclude=['category']).columns):\n",
    "    \n",
    "    eta = correlation_ratio(data_ocd[\"NQ31B1\"], data_ocd[col])\n",
    "    corDict[col] = eta\n",
    "    \n",
    "sorted_d = sorted(corDict.items(), key=operator.itemgetter(1), reverse=True)\n",
    "\n",
    "print(tabulate(pd.DataFrame(sorted_d[0:16]), tablefmt='psql'))"
   ]
  },
  {
   "cell_type": "markdown",
   "metadata": {},
   "source": [
    "<h1>Is there a change in the proportion of people getting treatment?</h1>"
   ]
  },
  {
   "cell_type": "code",
   "execution_count": 49,
   "metadata": {},
   "outputs": [
    {
     "name": "stdout",
     "output_type": "stream",
     "text": [
      "STUDY         18   19   20    21   22    23   24    25   26    27  ...   30  \\\n",
      "Treated                                                            ...        \n",
      "Not Treated  307  953  362  1014  304  1281  309  1012  353  1491  ...  322   \n",
      "Treated      210  653  286   757  237   799  235   793  286  1059  ...  302   \n",
      "\n",
      "STUDY          31   32    33   34    35   36    37   38    39  \n",
      "Treated                                                        \n",
      "Not Treated  1204  251  1243  535  1136  521  1448  482  1269  \n",
      "Treated      1031  287  1021  449   786  431  1089  323   866  \n",
      "\n",
      "[2 rows x 22 columns]\n",
      "0.12612787160493694\n"
     ]
    }
   ],
   "source": [
    "data_ocd['Treated'] = 'Not Treated'\n",
    "data_ocd.loc[data_ocd['NQ31B1'] == -1,'Treated'] = 'NA'\n",
    "data_ocd.loc[data_ocd['NQ31B1'] == 1,'Treated'] = 'NA'\n",
    "data_ocd.loc[data_ocd['NQ31B1'] == 2,'Treated'] = 'Treated'\n",
    "\n",
    "df = data_ocd.loc[data_ocd['Treated'].isin(['Treated', 'Not Treated'])][['STUDY','Treated']]\n",
    "tab = pd.crosstab(df['Treated'], df['STUDY'])\n",
    "table = sm.stats.Table(tab)\n",
    "print(tab)\n",
    "rslt = table.test_ordinal_association()\n",
    "print(rslt.pvalue)"
   ]
  },
  {
   "cell_type": "code",
   "execution_count": null,
   "metadata": {},
   "outputs": [],
   "source": []
  }
 ],
 "metadata": {
  "kernelspec": {
   "display_name": "Python 3",
   "language": "python",
   "name": "python3"
  },
  "language_info": {
   "codemirror_mode": {
    "name": "ipython",
    "version": 3
   },
   "file_extension": ".py",
   "mimetype": "text/x-python",
   "name": "python",
   "nbconvert_exporter": "python",
   "pygments_lexer": "ipython3",
   "version": "3.7.4"
  }
 },
 "nbformat": 4,
 "nbformat_minor": 2
}
