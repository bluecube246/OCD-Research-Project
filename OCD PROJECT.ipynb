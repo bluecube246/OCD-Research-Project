{
 "cells": [
  {
   "cell_type": "code",
   "execution_count": 1,
   "metadata": {},
   "outputs": [],
   "source": [
    "import pandas as pd\n",
    "import numpy as np\n",
    "import matplotlib.pyplot as plt"
   ]
  },
  {
   "cell_type": "markdown",
   "metadata": {},
   "source": [
    "<b>Upload and Clean SurveyI SurveyII SurveyII</b>"
   ]
  },
  {
   "cell_type": "code",
   "execution_count": 2,
   "metadata": {},
   "outputs": [],
   "source": [
    "TextFileReader1 = pd.read_csv('..\\SurveyI.csv',error_bad_lines=False,chunksize=1000)\n",
    "\n",
    "df1List = []\n",
    "for df in TextFileReader1:\n",
    "    df1List.append(df)\n",
    "    \n",
    "df1 = pd.concat(df1List,sort=False)"
   ]
  },
  {
   "cell_type": "code",
   "execution_count": 3,
   "metadata": {},
   "outputs": [],
   "source": [
    "df1 = df1.replace(' ',-1)\n",
    "df1 = df1.astype('int64',errors='ignore')\n",
    "df1 = df1.apply(lambda x: x.astype('int64',errors='ignore'))\n",
    "df1 = df1.apply(lambda x: x.astype('float64',errors='ignore') if x.dtype == 'O' else x)"
   ]
  },
  {
   "cell_type": "code",
   "execution_count": 4,
   "metadata": {},
   "outputs": [],
   "source": [
    "TextFileReader2 = pd.read_csv('..\\SurveyII.csv',error_bad_lines=False,chunksize=1000)\n",
    "\n",
    "dfList2 = []\n",
    "for df in TextFileReader2:\n",
    "    dfList2.append(df)\n",
    "    \n",
    "df2 = pd.concat(dfList2,sort=False)"
   ]
  },
  {
   "cell_type": "code",
   "execution_count": 5,
   "metadata": {},
   "outputs": [],
   "source": [
    "df2 = df2.replace(' ',-1)\n",
    "df2 = df2.astype('int64',errors='ignore')\n",
    "df2 = df2.apply(lambda x: x.astype('int64',errors='ignore'))\n",
    "df2 = df2.apply(lambda x: x.astype('float64',errors='ignore') if x.dtype == 'O' else x)"
   ]
  },
  {
   "cell_type": "code",
   "execution_count": 6,
   "metadata": {},
   "outputs": [],
   "source": [
    "TextFileReader3 = pd.read_csv('..\\SurveyIII.csv',error_bad_lines=False,chunksize=1000)\n",
    "\n",
    "dfList3 = []\n",
    "for df in TextFileReader3:\n",
    "    dfList3.append(df)\n",
    "    \n",
    "df3 = pd.concat(dfList3,sort=False)"
   ]
  },
  {
   "cell_type": "code",
   "execution_count": 7,
   "metadata": {},
   "outputs": [],
   "source": [
    "df3 = df3.replace(' ',-1)\n",
    "df3 = df3.astype('int64',errors='ignore')\n",
    "df3 = df3.apply(lambda x: x.astype('int64',errors='ignore'))\n",
    "df3 = df3.apply(lambda x: x.astype('float64',errors='ignore') if x.dtype == 'O' else x)"
   ]
  },
  {
   "cell_type": "markdown",
   "metadata": {},
   "source": [
    "<b>Adding a year column</b>"
   ]
  },
  {
   "cell_type": "code",
   "execution_count": 8,
   "metadata": {},
   "outputs": [],
   "source": [
    "df1['Year'] = 1\n",
    "df2['Year'] = 2\n",
    "df3['Year'] = 3"
   ]
  },
  {
   "cell_type": "markdown",
   "metadata": {},
   "source": [
    "<b>Counts of People with OCD.</b> "
   ]
  },
  {
   "cell_type": "code",
   "execution_count": 9,
   "metadata": {},
   "outputs": [
    {
     "name": "stdout",
     "output_type": "stream",
     "text": [
      "Survey I\n",
      " 1    366332\n",
      "-1      5616\n",
      " 2      3123\n",
      " 3      1604\n",
      " 5      1494\n",
      " 4      1061\n",
      " 6       354\n",
      "Name: NQ31B1, dtype: int64\n",
      "Survey II\n",
      " 1    482168\n",
      "-1      7300\n",
      " 2      4972\n",
      " 5      2215\n",
      " 3      2160\n",
      " 4      1573\n",
      " 6       472\n",
      "Name: NQ31B1, dtype: int64\n",
      "Survey III\n",
      " 1    342893\n",
      "-1      4814\n",
      " 2      4695\n",
      " 3      2035\n",
      " 5      1976\n",
      " 4      1665\n",
      " 6       375\n",
      "Name: NQ31B1, dtype: int64\n"
     ]
    }
   ],
   "source": [
    "print(\"Survey I\")\n",
    "print(df1['NQ31B1'].value_counts())\n",
    "print(\"Survey II\")\n",
    "print(df2['NQ31B1'].value_counts())\n",
    "print(\"Survey III\")\n",
    "print(df3['NQ31B1'].value_counts())"
   ]
  },
  {
   "cell_type": "markdown",
   "metadata": {},
   "source": [
    "Merge Data Frames"
   ]
  },
  {
   "cell_type": "code",
   "execution_count": 10,
   "metadata": {},
   "outputs": [],
   "source": [
    "data_ocd = pd.concat([df1,df2,df3],axis=0,sort = True)"
   ]
  },
  {
   "cell_type": "code",
   "execution_count": 11,
   "metadata": {},
   "outputs": [
    {
     "data": {
      "text/plain": [
       "(1238897, 186)"
      ]
     },
     "execution_count": 11,
     "metadata": {},
     "output_type": "execute_result"
    }
   ],
   "source": [
    "data_ocd.shape"
   ]
  },
  {
   "cell_type": "code",
   "execution_count": 42,
   "metadata": {},
   "outputs": [
    {
     "data": {
      "text/plain": [
       "0         21\n",
       "1         21\n",
       "2         21\n",
       "3         21\n",
       "4         21\n",
       "          ..\n",
       "358448    38\n",
       "358449    38\n",
       "358450    38\n",
       "358451    38\n",
       "358452    38\n",
       "Name: STUDY, Length: 1238897, dtype: int64"
      ]
     },
     "execution_count": 42,
     "metadata": {},
     "output_type": "execute_result"
    }
   ],
   "source": [
    "data_ocd.STUDY"
   ]
  },
  {
   "cell_type": "code",
   "execution_count": 49,
   "metadata": {},
   "outputs": [
    {
     "data": {
      "text/plain": [
       "['Fall2008',\n",
       " 'Spring2009',\n",
       " 'Fall2009',\n",
       " 'Spring2010',\n",
       " 'Fall2010',\n",
       " 'Spring2011',\n",
       " 'Fall2011',\n",
       " 'Spring2012',\n",
       " 'Fall2012',\n",
       " 'Spring2013',\n",
       " 'Fall2013',\n",
       " 'Spring2014',\n",
       " 'Fall2014',\n",
       " 'Spring2015',\n",
       " 'Fall2015',\n",
       " 'Spring2016',\n",
       " 'Fall2016',\n",
       " 'Spring2017',\n",
       " 'Fall2017',\n",
       " 'Spring2018',\n",
       " 'Fall2018']"
      ]
     },
     "execution_count": 49,
     "metadata": {},
     "output_type": "execute_result"
    }
   ],
   "source": [
    "label = []\n",
    "k = 0\n",
    "j = 2008\n",
    "for i in range(18,39):\n",
    "    if(k == 0):\n",
    "        label.append(\"Fall\" + str(j))\n",
    "        k = 1\n",
    "        j += 1\n",
    "    else:\n",
    "        label.append(\"Spring\" + str(j))\n",
    "        k = 0\n",
    "        \n",
    "label"
   ]
  },
  {
   "cell_type": "code",
   "execution_count": 54,
   "metadata": {},
   "outputs": [
    {
     "data": {
      "image/png": "[encoded data removed]",
      "text/plain": [
       "<Figure size 1296x432 with 1 Axes>"
      ]
     },
     "metadata": {
      "needs_background": "light"
     },
     "output_type": "display_data"
    }
   ],
   "source": [
    "def plot_ocd_ratio(data_ocd):  \n",
    "    \n",
    "    ratio = []\n",
    "    \n",
    "    for x,answer in enumerate(data_ocd.STUDY.value_counts().sort_index(ascending=True).index.values):\n",
    "        data = data_ocd[(data_ocd['STUDY'] == answer)]\n",
    "        ratio.append(data.NQ31B1[(data['NQ31B1'] != 1) & (data['NQ31B1'] != -1)].value_counts().sum() / len(data.NQ31B1))\n",
    "\n",
    "    ocd_plot = pd.DataFrame({'lab':label, 'val':ratio})\n",
    "    ocd_plot.plot.bar(x='lab',y='val',label=\"Percent of people who reported OCD\",figsize=(18,6))\n",
    "\n",
    "plot_ocd_ratio(data_ocd)"
   ]
  },
  {
   "cell_type": "markdown",
   "metadata": {},
   "source": [
    "<b>Graph of the percentage of people who reported Ocd treatment<b>"
   ]
  },
  {
   "cell_type": "code",
   "execution_count": 12,
   "metadata": {},
   "outputs": [
    {
     "data": {
      "image/png": "[encoded data removed]",
      "text/plain": [
       "<Figure size 432x288 with 1 Axes>"
      ]
     },
     "metadata": {
      "needs_background": "light"
     },
     "output_type": "display_data"
    }
   ],
   "source": [
    "def plot_ocd_ratio(data_ocd):  \n",
    "    \n",
    "    ratio = []\n",
    "    \n",
    "    for x,answer in enumerate(data_ocd.Year.value_counts().sort_index(ascending=True).index.values):\n",
    "        data = data_ocd[(data_ocd['Year'] == answer)]\n",
    "        ratio.append(data.NQ31B1[(data['NQ31B1'] != 1) & (data['NQ31B1'] != -1)].value_counts().sum() / len(data.NQ31B1))\n",
    "\n",
    "    ocd_plot = pd.DataFrame({'lab':['Year1', 'Year2', 'Year3'], 'val':ratio})\n",
    "    ocd_plot.plot.bar(x='lab',y='val',rot=0,label=\"Percent of people who reported OCD\")\n",
    "\n",
    "plot_ocd_ratio(data_ocd)"
   ]
  },
  {
   "cell_type": "markdown",
   "metadata": {},
   "source": [
    "<b>Graph of responses per year</b>"
   ]
  },
  {
   "cell_type": "code",
   "execution_count": 13,
   "metadata": {},
   "outputs": [
    {
     "data": {
      "image/png": "[encoded data removed]",
      "text/plain": [
       "<Figure size 1080x432 with 3 Axes>"
      ]
     },
     "metadata": {
      "needs_background": "light"
     },
     "output_type": "display_data"
    }
   ],
   "source": [
    "fig, axes = plt.subplots(1, 3, figsize=(15, 6))\n",
    "\n",
    "for x,answer in enumerate(data_ocd.Year.value_counts().sort_index(ascending=True).index.values):\n",
    "    data = data_ocd[(data_ocd['Year'] == answer)]\n",
    "    #print(data.groupby(['NQ31B1']).Year.sum())\n",
    "    data = data.groupby(['NQ31B1']).Year.sum()\n",
    "    left=  [k[0] for k in enumerate(data)]\n",
    "    right=  [k[1] for k in enumerate(data)]\n",
    "    axes[x].bar(left,right,label= (\"Year\" + str(answer)),log=True)\n",
    "    axes[x].set_xticks(left, minor=False)\n",
    "    axes[x].set_xticklabels(data.index.values)\n",
    "    axes[x].legend(loc='best')\n",
    "    "
   ]
  },
  {
   "cell_type": "code",
   "execution_count": 14,
   "metadata": {},
   "outputs": [],
   "source": [
    "data_ocd = data_ocd.dropna(axis=1)"
   ]
  },
  {
   "cell_type": "code",
   "execution_count": 15,
   "metadata": {},
   "outputs": [
    {
     "name": "stdout",
     "output_type": "stream",
     "text": [
      "<class 'pandas.core.frame.DataFrame'>\n",
      "Int64Index: 1238897 entries, 0 to 358452\n",
      "Data columns (total 75 columns):\n",
      "ACHAMEM    1238897 non-null int64\n",
      "BAC        1238897 non-null float64\n",
      "BMI        1238897 non-null float64\n",
      "HBCU       1238897 non-null int64\n",
      "HHE        1238897 non-null int64\n",
      "HS         1238897 non-null int64\n",
      "LOCALE     1238897 non-null int64\n",
      "NQ31A1     1238897 non-null int64\n",
      "NQ31A2     1238897 non-null int64\n",
      "NQ31A3     1238897 non-null int64\n",
      "NQ31A4     1238897 non-null int64\n",
      "NQ31A5     1238897 non-null int64\n",
      "NQ31A6     1238897 non-null int64\n",
      "NQ31A7     1238897 non-null int64\n",
      "NQ31A8     1238897 non-null int64\n",
      "NQ31B1     1238897 non-null int64\n",
      "NQ31B2     1238897 non-null int64\n",
      "NQ31B3     1238897 non-null int64\n",
      "NQ31B4     1238897 non-null int64\n",
      "NQ31B5     1238897 non-null int64\n",
      "NQ31B6     1238897 non-null int64\n",
      "NQ31B7     1238897 non-null int64\n",
      "NQ34A      1238897 non-null int64\n",
      "NQ34B      1238897 non-null int64\n",
      "NQ34C      1238897 non-null int64\n",
      "NQ34D      1238897 non-null int64\n",
      "NQ35       1238897 non-null int64\n",
      "NQ46       1238897 non-null float64\n",
      "NQ50       1238897 non-null float64\n",
      "NQ51       1238897 non-null int64\n",
      "NQ52       1238897 non-null int64\n",
      "NQ53       1238897 non-null int64\n",
      "NQ54A      1238897 non-null int64\n",
      "NQ54B      1238897 non-null int64\n",
      "NQ54C      1238897 non-null int64\n",
      "NQ54D      1238897 non-null int64\n",
      "NQ54E      1238897 non-null int64\n",
      "NQ54F      1238897 non-null int64\n",
      "NQ54G      1238897 non-null int64\n",
      "NQ55       1238897 non-null int64\n",
      "NQ56       1238897 non-null int64\n",
      "NQ57       1238897 non-null int64\n",
      "NQ58       1238897 non-null int64\n",
      "NQ59       1238897 non-null int64\n",
      "NQ60       1238897 non-null int64\n",
      "NQ61       1238897 non-null int64\n",
      "NQ62       1238897 non-null int64\n",
      "NQ63       1238897 non-null int64\n",
      "NQ64A      1238897 non-null int64\n",
      "NQ64B      1238897 non-null int64\n",
      "NQ64C      1238897 non-null int64\n",
      "NQ65A      1238897 non-null int64\n",
      "NQ65B      1238897 non-null int64\n",
      "NQ65C      1238897 non-null int64\n",
      "NQ65D      1238897 non-null int64\n",
      "NQ65E      1238897 non-null int64\n",
      "NQ65F      1238897 non-null int64\n",
      "NQ65G      1238897 non-null int64\n",
      "NQ65H      1238897 non-null int64\n",
      "NQ65I      1238897 non-null int64\n",
      "PAREQ      1238897 non-null int64\n",
      "PERMID     1238897 non-null int64\n",
      "PMI        1238897 non-null int64\n",
      "PUBPRIV    1238897 non-null int64\n",
      "RBAC1      1238897 non-null int64\n",
      "RBAC2      1238897 non-null int64\n",
      "RBMI       1238897 non-null int64\n",
      "REGION     1238897 non-null int64\n",
      "REL        1238897 non-null int64\n",
      "STUDY      1238897 non-null int64\n",
      "TCU        1238897 non-null int64\n",
      "TYPE       1238897 non-null int64\n",
      "Year       1238897 non-null int64\n",
      "pwno       1238897 non-null int64\n",
      "size       1238897 non-null int64\n",
      "dtypes: float64(4), int64(71)\n",
      "memory usage: 718.4 MB\n"
     ]
    }
   ],
   "source": [
    "data_ocd.info()"
   ]
  },
  {
   "cell_type": "code",
   "execution_count": 17,
   "metadata": {},
   "outputs": [],
   "source": [
    "y = data_ocd['NQ31B1']"
   ]
  },
  {
   "cell_type": "code",
   "execution_count": 18,
   "metadata": {},
   "outputs": [],
   "source": [
    "X = data_ocd.drop(['Year','NQ31B1'],axis=1)"
   ]
  },
  {
   "cell_type": "code",
   "execution_count": 19,
   "metadata": {},
   "outputs": [
    {
     "name": "stderr",
     "output_type": "stream",
     "text": [
      "C:\\Users\\bluec\\Anaconda3\\envs\\eods-f19\\lib\\site-packages\\sklearn\\ensemble\\forest.py:245: FutureWarning: The default value of n_estimators will change from 10 in version 0.20 to 100 in 0.22.\n",
      "  \"10 in version 0.20 to 100 in 0.22.\", FutureWarning)\n"
     ]
    },
    {
     "data": {
      "text/plain": [
       "ExtraTreesClassifier(bootstrap=False, class_weight=None, criterion='gini',\n",
       "                     max_depth=None, max_features='auto', max_leaf_nodes=None,\n",
       "                     min_impurity_decrease=0.0, min_impurity_split=None,\n",
       "                     min_samples_leaf=1, min_samples_split=2,\n",
       "                     min_weight_fraction_leaf=0.0, n_estimators=10, n_jobs=None,\n",
       "                     oob_score=False, random_state=None, verbose=0,\n",
       "                     warm_start=False)"
      ]
     },
     "execution_count": 19,
     "metadata": {},
     "output_type": "execute_result"
    }
   ],
   "source": [
    "from sklearn import metrics\n",
    "from sklearn.ensemble import ExtraTreesClassifier\n",
    "model = ExtraTreesClassifier()\n",
    "model.fit(X,y)"
   ]
  },
  {
   "cell_type": "code",
   "execution_count": 33,
   "metadata": {},
   "outputs": [
    {
     "data": {
      "text/plain": [
       "array([0.00470045, 0.01884137, 0.02183617, 0.00056126, 0.00187745,\n",
       "       0.00329971, 0.01603265, 0.0123819 , 0.04638267, 0.01222955,\n",
       "       0.0091138 , 0.0083697 , 0.03824658, 0.01365826, 0.01034446,\n",
       "       0.04770276, 0.02419984, 0.04941525, 0.04357459, 0.01510258,\n",
       "       0.035972  , 0.02979811, 0.02601865, 0.01113389, 0.03545817,\n",
       "       0.01661258, 0.02067704, 0.02177495, 0.01621937, 0.00575869,\n",
       "       0.01036404, 0.00424723, 0.00248586, 0.0045443 , 0.00315491,\n",
       "       0.00230715, 0.00302845, 0.00265505, 0.0050028 , 0.01369667,\n",
       "       0.00662014, 0.01449011, 0.00740737, 0.01761814, 0.01526941,\n",
       "       0.01145176, 0.01566311, 0.00511992, 0.00919235, 0.00789751,\n",
       "       0.006051  , 0.00681351, 0.02510181, 0.0075365 , 0.00311278,\n",
       "       0.00384338, 0.00891216, 0.00295317, 0.00596298, 0.02541397,\n",
       "       0.02097921, 0.00080542, 0.00626258, 0.00787476, 0.01045735,\n",
       "       0.01436885, 0.01492909, 0.00509815, 0.02092499, 0.        ,\n",
       "       0.00337624, 0.00464018, 0.01507122])"
      ]
     },
     "execution_count": 33,
     "metadata": {},
     "output_type": "execute_result"
    }
   ],
   "source": [
    "importances = model.feature_importances_\n",
    "importances"
   ]
  },
  {
   "cell_type": "code",
   "execution_count": 24,
   "metadata": {},
   "outputs": [
    {
     "data": {
      "text/plain": [
       "array([17, 15,  8, 18, 12, 20, 24, 21, 22, 59, 52, 16,  2, 27, 60, 68, 26,\n",
       "        1, 43, 25, 28,  6, 46, 44, 19, 72, 66, 41, 65, 39, 13,  7,  9, 45,\n",
       "       23, 64, 30, 14, 48, 10, 56, 11, 49, 63, 53, 42, 51, 40, 62, 50, 58,\n",
       "       29, 47, 67, 38,  0, 71, 33, 31, 55, 70,  5, 34, 54, 36, 57, 37, 32,\n",
       "       35,  4, 61,  3, 69], dtype=int64)"
      ]
     },
     "execution_count": 24,
     "metadata": {},
     "output_type": "execute_result"
    }
   ],
   "source": [
    "indices = np.argsort(importances)[::-1]\n",
    "indices"
   ]
  },
  {
   "cell_type": "code",
   "execution_count": 30,
   "metadata": {},
   "outputs": [
    {
     "data": {
      "text/plain": [
       "Index(['NQ31B4', 'NQ31B2', 'NQ31A2', 'NQ31B5', 'NQ31A6', 'NQ31B7', 'NQ34D',\n",
       "       'NQ34A', 'NQ34B', 'PAREQ', 'NQ65C', 'NQ31B3', 'BMI', 'NQ50', 'PERMID',\n",
       "       'STUDY', 'NQ46', 'BAC', 'NQ60', 'NQ35', 'NQ51', 'LOCALE', 'NQ63',\n",
       "       'NQ61', 'NQ31B6', 'size', 'REGION', 'NQ58', 'RBMI', 'NQ56', 'NQ31A7',\n",
       "       'NQ31A1', 'NQ31A3', 'NQ62', 'NQ34C', 'RBAC2', 'NQ53', 'NQ31A8', 'NQ64B',\n",
       "       'NQ31A4', 'NQ65G', 'NQ31A5', 'NQ64C', 'RBAC1', 'NQ65D', 'NQ59', 'NQ65B',\n",
       "       'NQ57', 'PUBPRIV', 'NQ65A', 'NQ65I', 'NQ52', 'NQ64A', 'REL', 'NQ55',\n",
       "       'ACHAMEM', 'pwno', 'NQ54C', 'NQ54A', 'NQ65F', 'TYPE', 'HS', 'NQ54D',\n",
       "       'NQ65E', 'NQ54F', 'NQ65H', 'NQ54G', 'NQ54B', 'NQ54E', 'HHE', 'PMI',\n",
       "       'HBCU', 'TCU'],\n",
       "      dtype='object')"
      ]
     },
     "execution_count": 30,
     "metadata": {},
     "output_type": "execute_result"
    }
   ],
   "source": [
    "X.columns[indices]"
   ]
  },
  {
   "cell_type": "code",
   "execution_count": 34,
   "metadata": {},
   "outputs": [
    {
     "data": {
      "text/plain": [
       "ACHAMEM   -0.006035\n",
       "BAC        0.158285\n",
       "BMI        0.139570\n",
       "HBCU      -0.005992\n",
       "HHE       -0.013681\n",
       "             ...   \n",
       "STUDY      0.019622\n",
       "TCU             NaN\n",
       "TYPE       0.019216\n",
       "pwno       0.055936\n",
       "size      -0.011423\n",
       "Name: NQ31B1, Length: 74, dtype: float64"
      ]
     },
     "execution_count": 34,
     "metadata": {},
     "output_type": "execute_result"
    }
   ],
   "source": [
    "df = data_ocd.drop(['Year'],axis=1)\n",
    "df.corr()['NQ31B1'][:]"
   ]
  },
  {
   "cell_type": "code",
   "execution_count": 41,
   "metadata": {},
   "outputs": [
    {
     "data": {
      "text/plain": [
       "NQ31B3    0.478222\n",
       "NQ31B4    0.454124\n",
       "NQ31B6    0.451380\n",
       "NQ31B2    0.402257\n",
       "NQ31A5    0.384281\n",
       "NQ31A1    0.383290\n",
       "NQ31A4    0.374819\n",
       "NQ31B5    0.373841\n",
       "NQ31A2    0.359965\n",
       "NQ34B     0.354722\n",
       "NQ31A7    0.343061\n",
       "NQ31B7    0.339596\n",
       "NQ65G     0.331812\n",
       "Name: NQ31B1, dtype: float64"
      ]
     },
     "execution_count": 41,
     "metadata": {},
     "output_type": "execute_result"
    }
   ],
   "source": [
    "df.corr()['NQ31B1'][:].sort_values()[::-1][2:15]"
   ]
  },
  {
   "cell_type": "code",
   "execution_count": 40,
   "metadata": {},
   "outputs": [
    {
     "data": {
      "text/plain": [
       "TCU            NaN\n",
       "NQ31B1    1.000000\n",
       "NQ31B3    0.478222\n",
       "NQ31B4    0.454124\n",
       "NQ31B6    0.451380\n",
       "NQ31B2    0.402257\n",
       "NQ31A5    0.384281\n",
       "NQ31A1    0.383290\n",
       "NQ31A4    0.374819\n",
       "NQ31B5    0.373841\n",
       "NQ31A2    0.359965\n",
       "NQ34B     0.354722\n",
       "NQ31A7    0.343061\n",
       "NQ31B7    0.339596\n",
       "NQ65G     0.331812\n",
       "Name: NQ31B1, dtype: float64"
      ]
     },
     "execution_count": 40,
     "metadata": {},
     "output_type": "execute_result"
    }
   ],
   "source": [
    "df.corr()['NQ31B1'][:].sort_values()[::-1][0:15]"
   ]
  },
  {
   "cell_type": "code",
   "execution_count": 79,
   "metadata": {},
   "outputs": [
    {
     "name": "stderr",
     "output_type": "stream",
     "text": [
      "C:\\Users\\bluec\\Anaconda3\\envs\\eods-f19\\lib\\site-packages\\sklearn\\linear_model\\logistic.py:432: FutureWarning: Default solver will be changed to 'lbfgs' in 0.22. Specify a solver to silence this warning.\n",
      "  FutureWarning)\n",
      "C:\\Users\\bluec\\Anaconda3\\envs\\eods-f19\\lib\\site-packages\\sklearn\\linear_model\\logistic.py:469: FutureWarning: Default multi_class will be changed to 'auto' in 0.22. Specify the multi_class option to silence this warning.\n",
      "  \"this warning.\", FutureWarning)\n"
     ]
    },
    {
     "ename": "KeyboardInterrupt",
     "evalue": "",
     "output_type": "error",
     "traceback": [
      "\u001b[1;31m---------------------------------------------------------------------------\u001b[0m",
      "\u001b[1;31mKeyboardInterrupt\u001b[0m                         Traceback (most recent call last)",
      "\u001b[1;32m<ipython-input-79-73b8424a46bd>\u001b[0m in \u001b[0;36m<module>\u001b[1;34m\u001b[0m\n\u001b[0;32m      2\u001b[0m \u001b[1;32mfrom\u001b[0m \u001b[0msklearn\u001b[0m\u001b[1;33m.\u001b[0m\u001b[0mlinear_model\u001b[0m \u001b[1;32mimport\u001b[0m \u001b[0mLogisticRegression\u001b[0m\u001b[1;33m\u001b[0m\u001b[1;33m\u001b[0m\u001b[0m\n\u001b[0;32m      3\u001b[0m \u001b[0mmodel\u001b[0m \u001b[1;33m=\u001b[0m \u001b[0mLogisticRegression\u001b[0m\u001b[1;33m(\u001b[0m\u001b[1;33m)\u001b[0m\u001b[1;33m\u001b[0m\u001b[1;33m\u001b[0m\u001b[0m\n\u001b[1;32m----> 4\u001b[1;33m \u001b[0mmodel\u001b[0m\u001b[1;33m.\u001b[0m\u001b[0mfit\u001b[0m\u001b[1;33m(\u001b[0m\u001b[0mX\u001b[0m\u001b[1;33m,\u001b[0m\u001b[0my\u001b[0m\u001b[1;33m)\u001b[0m\u001b[1;33m\u001b[0m\u001b[1;33m\u001b[0m\u001b[0m\n\u001b[0m",
      "\u001b[1;32m~\\Anaconda3\\envs\\eods-f19\\lib\\site-packages\\sklearn\\linear_model\\logistic.py\u001b[0m in \u001b[0;36mfit\u001b[1;34m(self, X, y, sample_weight)\u001b[0m\n\u001b[0;32m   1547\u001b[0m                 \u001b[0mself\u001b[0m\u001b[1;33m.\u001b[0m\u001b[0mclass_weight\u001b[0m\u001b[1;33m,\u001b[0m \u001b[0mself\u001b[0m\u001b[1;33m.\u001b[0m\u001b[0mpenalty\u001b[0m\u001b[1;33m,\u001b[0m \u001b[0mself\u001b[0m\u001b[1;33m.\u001b[0m\u001b[0mdual\u001b[0m\u001b[1;33m,\u001b[0m \u001b[0mself\u001b[0m\u001b[1;33m.\u001b[0m\u001b[0mverbose\u001b[0m\u001b[1;33m,\u001b[0m\u001b[1;33m\u001b[0m\u001b[1;33m\u001b[0m\u001b[0m\n\u001b[0;32m   1548\u001b[0m                 \u001b[0mself\u001b[0m\u001b[1;33m.\u001b[0m\u001b[0mmax_iter\u001b[0m\u001b[1;33m,\u001b[0m \u001b[0mself\u001b[0m\u001b[1;33m.\u001b[0m\u001b[0mtol\u001b[0m\u001b[1;33m,\u001b[0m \u001b[0mself\u001b[0m\u001b[1;33m.\u001b[0m\u001b[0mrandom_state\u001b[0m\u001b[1;33m,\u001b[0m\u001b[1;33m\u001b[0m\u001b[1;33m\u001b[0m\u001b[0m\n\u001b[1;32m-> 1549\u001b[1;33m                 sample_weight=sample_weight)\n\u001b[0m\u001b[0;32m   1550\u001b[0m             \u001b[0mself\u001b[0m\u001b[1;33m.\u001b[0m\u001b[0mn_iter_\u001b[0m \u001b[1;33m=\u001b[0m \u001b[0mnp\u001b[0m\u001b[1;33m.\u001b[0m\u001b[0marray\u001b[0m\u001b[1;33m(\u001b[0m\u001b[1;33m[\u001b[0m\u001b[0mn_iter_\u001b[0m\u001b[1;33m]\u001b[0m\u001b[1;33m)\u001b[0m\u001b[1;33m\u001b[0m\u001b[1;33m\u001b[0m\u001b[0m\n\u001b[0;32m   1551\u001b[0m             \u001b[1;32mreturn\u001b[0m \u001b[0mself\u001b[0m\u001b[1;33m\u001b[0m\u001b[1;33m\u001b[0m\u001b[0m\n",
      "\u001b[1;32m~\\Anaconda3\\envs\\eods-f19\\lib\\site-packages\\sklearn\\svm\\base.py\u001b[0m in \u001b[0;36m_fit_liblinear\u001b[1;34m(X, y, C, fit_intercept, intercept_scaling, class_weight, penalty, dual, verbose, max_iter, tol, random_state, multi_class, loss, epsilon, sample_weight)\u001b[0m\n\u001b[0;32m    919\u001b[0m         \u001b[0mX\u001b[0m\u001b[1;33m,\u001b[0m \u001b[0my_ind\u001b[0m\u001b[1;33m,\u001b[0m \u001b[0msp\u001b[0m\u001b[1;33m.\u001b[0m\u001b[0misspmatrix\u001b[0m\u001b[1;33m(\u001b[0m\u001b[0mX\u001b[0m\u001b[1;33m)\u001b[0m\u001b[1;33m,\u001b[0m \u001b[0msolver_type\u001b[0m\u001b[1;33m,\u001b[0m \u001b[0mtol\u001b[0m\u001b[1;33m,\u001b[0m \u001b[0mbias\u001b[0m\u001b[1;33m,\u001b[0m \u001b[0mC\u001b[0m\u001b[1;33m,\u001b[0m\u001b[1;33m\u001b[0m\u001b[1;33m\u001b[0m\u001b[0m\n\u001b[0;32m    920\u001b[0m         \u001b[0mclass_weight_\u001b[0m\u001b[1;33m,\u001b[0m \u001b[0mmax_iter\u001b[0m\u001b[1;33m,\u001b[0m \u001b[0mrnd\u001b[0m\u001b[1;33m.\u001b[0m\u001b[0mrandint\u001b[0m\u001b[1;33m(\u001b[0m\u001b[0mnp\u001b[0m\u001b[1;33m.\u001b[0m\u001b[0miinfo\u001b[0m\u001b[1;33m(\u001b[0m\u001b[1;34m'i'\u001b[0m\u001b[1;33m)\u001b[0m\u001b[1;33m.\u001b[0m\u001b[0mmax\u001b[0m\u001b[1;33m)\u001b[0m\u001b[1;33m,\u001b[0m\u001b[1;33m\u001b[0m\u001b[1;33m\u001b[0m\u001b[0m\n\u001b[1;32m--> 921\u001b[1;33m         epsilon, sample_weight)\n\u001b[0m\u001b[0;32m    922\u001b[0m     \u001b[1;31m# Regarding rnd.randint(..) in the above signature:\u001b[0m\u001b[1;33m\u001b[0m\u001b[1;33m\u001b[0m\u001b[1;33m\u001b[0m\u001b[0m\n\u001b[0;32m    923\u001b[0m     \u001b[1;31m# seed for srand in range [0..INT_MAX); due to limitations in Numpy\u001b[0m\u001b[1;33m\u001b[0m\u001b[1;33m\u001b[0m\u001b[1;33m\u001b[0m\u001b[0m\n",
      "\u001b[1;31mKeyboardInterrupt\u001b[0m: "
     ]
    }
   ],
   "source": [
    "from sklearn.feature_selection import RFE\n",
    "from sklearn.linear_model import LogisticRegression\n",
    "model = LogisticRegression()\n",
    "model.fit(X,y)"
   ]
  },
  {
   "cell_type": "code",
   "execution_count": null,
   "metadata": {},
   "outputs": [],
   "source": []
  },
  {
   "cell_type": "code",
   "execution_count": 78,
   "metadata": {
    "scrolled": true
   },
   "outputs": [
    {
     "name": "stderr",
     "output_type": "stream",
     "text": [
      "C:\\Users\\bluec\\Anaconda3\\envs\\eods-f19\\lib\\site-packages\\sklearn\\linear_model\\logistic.py:432: FutureWarning: Default solver will be changed to 'lbfgs' in 0.22. Specify a solver to silence this warning.\n",
      "  FutureWarning)\n",
      "C:\\Users\\bluec\\Anaconda3\\envs\\eods-f19\\lib\\site-packages\\sklearn\\linear_model\\logistic.py:469: FutureWarning: Default multi_class will be changed to 'auto' in 0.22. Specify the multi_class option to silence this warning.\n",
      "  \"this warning.\", FutureWarning)\n",
      "C:\\Users\\bluec\\Anaconda3\\envs\\eods-f19\\lib\\site-packages\\sklearn\\linear_model\\logistic.py:432: FutureWarning: Default solver will be changed to 'lbfgs' in 0.22. Specify a solver to silence this warning.\n",
      "  FutureWarning)\n",
      "C:\\Users\\bluec\\Anaconda3\\envs\\eods-f19\\lib\\site-packages\\sklearn\\linear_model\\logistic.py:469: FutureWarning: Default multi_class will be changed to 'auto' in 0.22. Specify the multi_class option to silence this warning.\n",
      "  \"this warning.\", FutureWarning)\n",
      "C:\\Users\\bluec\\Anaconda3\\envs\\eods-f19\\lib\\site-packages\\sklearn\\linear_model\\logistic.py:432: FutureWarning: Default solver will be changed to 'lbfgs' in 0.22. Specify a solver to silence this warning.\n",
      "  FutureWarning)\n",
      "C:\\Users\\bluec\\Anaconda3\\envs\\eods-f19\\lib\\site-packages\\sklearn\\linear_model\\logistic.py:469: FutureWarning: Default multi_class will be changed to 'auto' in 0.22. Specify the multi_class option to silence this warning.\n",
      "  \"this warning.\", FutureWarning)\n",
      "C:\\Users\\bluec\\Anaconda3\\envs\\eods-f19\\lib\\site-packages\\sklearn\\linear_model\\logistic.py:432: FutureWarning: Default solver will be changed to 'lbfgs' in 0.22. Specify a solver to silence this warning.\n",
      "  FutureWarning)\n",
      "C:\\Users\\bluec\\Anaconda3\\envs\\eods-f19\\lib\\site-packages\\sklearn\\linear_model\\logistic.py:469: FutureWarning: Default multi_class will be changed to 'auto' in 0.22. Specify the multi_class option to silence this warning.\n",
      "  \"this warning.\", FutureWarning)\n"
     ]
    },
    {
     "ename": "KeyboardInterrupt",
     "evalue": "",
     "output_type": "error",
     "traceback": [
      "\u001b[1;31m---------------------------------------------------------------------------\u001b[0m",
      "\u001b[1;31mKeyboardInterrupt\u001b[0m                         Traceback (most recent call last)",
      "\u001b[1;32m<ipython-input-78-bc8ec6471e25>\u001b[0m in \u001b[0;36m<module>\u001b[1;34m\u001b[0m\n\u001b[0;32m      3\u001b[0m \u001b[0mmodel\u001b[0m \u001b[1;33m=\u001b[0m \u001b[0mLogisticRegression\u001b[0m\u001b[1;33m(\u001b[0m\u001b[1;33m)\u001b[0m\u001b[1;33m\u001b[0m\u001b[1;33m\u001b[0m\u001b[0m\n\u001b[0;32m      4\u001b[0m \u001b[0mrfe\u001b[0m \u001b[1;33m=\u001b[0m \u001b[0mRFE\u001b[0m\u001b[1;33m(\u001b[0m\u001b[0mmodel\u001b[0m\u001b[1;33m,\u001b[0m\u001b[1;36m3\u001b[0m\u001b[1;33m)\u001b[0m\u001b[1;33m\u001b[0m\u001b[1;33m\u001b[0m\u001b[0m\n\u001b[1;32m----> 5\u001b[1;33m \u001b[0mrfe\u001b[0m \u001b[1;33m=\u001b[0m \u001b[0mrfe\u001b[0m\u001b[1;33m.\u001b[0m\u001b[0mfit\u001b[0m\u001b[1;33m(\u001b[0m\u001b[0mX\u001b[0m\u001b[1;33m,\u001b[0m \u001b[0my\u001b[0m\u001b[1;33m)\u001b[0m\u001b[1;33m\u001b[0m\u001b[1;33m\u001b[0m\u001b[0m\n\u001b[0m\u001b[0;32m      6\u001b[0m \u001b[0mprint\u001b[0m\u001b[1;33m(\u001b[0m\u001b[0mrfe\u001b[0m\u001b[1;33m.\u001b[0m\u001b[0msupport_\u001b[0m\u001b[1;33m)\u001b[0m\u001b[1;33m\u001b[0m\u001b[1;33m\u001b[0m\u001b[0m\n\u001b[0;32m      7\u001b[0m \u001b[0mprint\u001b[0m\u001b[1;33m(\u001b[0m\u001b[0mrfe\u001b[0m\u001b[1;33m.\u001b[0m\u001b[0mranking_\u001b[0m\u001b[1;33m)\u001b[0m\u001b[1;33m\u001b[0m\u001b[1;33m\u001b[0m\u001b[0m\n",
      "\u001b[1;32m~\\Anaconda3\\envs\\eods-f19\\lib\\site-packages\\sklearn\\feature_selection\\rfe.py\u001b[0m in \u001b[0;36mfit\u001b[1;34m(self, X, y)\u001b[0m\n\u001b[0;32m    142\u001b[0m             \u001b[0mThe\u001b[0m \u001b[0mtarget\u001b[0m \u001b[0mvalues\u001b[0m\u001b[1;33m.\u001b[0m\u001b[1;33m\u001b[0m\u001b[1;33m\u001b[0m\u001b[0m\n\u001b[0;32m    143\u001b[0m         \"\"\"\n\u001b[1;32m--> 144\u001b[1;33m         \u001b[1;32mreturn\u001b[0m \u001b[0mself\u001b[0m\u001b[1;33m.\u001b[0m\u001b[0m_fit\u001b[0m\u001b[1;33m(\u001b[0m\u001b[0mX\u001b[0m\u001b[1;33m,\u001b[0m \u001b[0my\u001b[0m\u001b[1;33m)\u001b[0m\u001b[1;33m\u001b[0m\u001b[1;33m\u001b[0m\u001b[0m\n\u001b[0m\u001b[0;32m    145\u001b[0m \u001b[1;33m\u001b[0m\u001b[0m\n\u001b[0;32m    146\u001b[0m     \u001b[1;32mdef\u001b[0m \u001b[0m_fit\u001b[0m\u001b[1;33m(\u001b[0m\u001b[0mself\u001b[0m\u001b[1;33m,\u001b[0m \u001b[0mX\u001b[0m\u001b[1;33m,\u001b[0m \u001b[0my\u001b[0m\u001b[1;33m,\u001b[0m \u001b[0mstep_score\u001b[0m\u001b[1;33m=\u001b[0m\u001b[1;32mNone\u001b[0m\u001b[1;33m)\u001b[0m\u001b[1;33m:\u001b[0m\u001b[1;33m\u001b[0m\u001b[1;33m\u001b[0m\u001b[0m\n",
      "\u001b[1;32m~\\Anaconda3\\envs\\eods-f19\\lib\\site-packages\\sklearn\\feature_selection\\rfe.py\u001b[0m in \u001b[0;36m_fit\u001b[1;34m(self, X, y, step_score)\u001b[0m\n\u001b[0;32m    181\u001b[0m                 \u001b[0mprint\u001b[0m\u001b[1;33m(\u001b[0m\u001b[1;34m\"Fitting estimator with %d features.\"\u001b[0m \u001b[1;33m%\u001b[0m \u001b[0mnp\u001b[0m\u001b[1;33m.\u001b[0m\u001b[0msum\u001b[0m\u001b[1;33m(\u001b[0m\u001b[0msupport_\u001b[0m\u001b[1;33m)\u001b[0m\u001b[1;33m)\u001b[0m\u001b[1;33m\u001b[0m\u001b[1;33m\u001b[0m\u001b[0m\n\u001b[0;32m    182\u001b[0m \u001b[1;33m\u001b[0m\u001b[0m\n\u001b[1;32m--> 183\u001b[1;33m             \u001b[0mestimator\u001b[0m\u001b[1;33m.\u001b[0m\u001b[0mfit\u001b[0m\u001b[1;33m(\u001b[0m\u001b[0mX\u001b[0m\u001b[1;33m[\u001b[0m\u001b[1;33m:\u001b[0m\u001b[1;33m,\u001b[0m \u001b[0mfeatures\u001b[0m\u001b[1;33m]\u001b[0m\u001b[1;33m,\u001b[0m \u001b[0my\u001b[0m\u001b[1;33m)\u001b[0m\u001b[1;33m\u001b[0m\u001b[1;33m\u001b[0m\u001b[0m\n\u001b[0m\u001b[0;32m    184\u001b[0m \u001b[1;33m\u001b[0m\u001b[0m\n\u001b[0;32m    185\u001b[0m             \u001b[1;31m# Get coefs\u001b[0m\u001b[1;33m\u001b[0m\u001b[1;33m\u001b[0m\u001b[1;33m\u001b[0m\u001b[0m\n",
      "\u001b[1;32m~\\Anaconda3\\envs\\eods-f19\\lib\\site-packages\\sklearn\\linear_model\\logistic.py\u001b[0m in \u001b[0;36mfit\u001b[1;34m(self, X, y, sample_weight)\u001b[0m\n\u001b[0;32m   1547\u001b[0m                 \u001b[0mself\u001b[0m\u001b[1;33m.\u001b[0m\u001b[0mclass_weight\u001b[0m\u001b[1;33m,\u001b[0m \u001b[0mself\u001b[0m\u001b[1;33m.\u001b[0m\u001b[0mpenalty\u001b[0m\u001b[1;33m,\u001b[0m \u001b[0mself\u001b[0m\u001b[1;33m.\u001b[0m\u001b[0mdual\u001b[0m\u001b[1;33m,\u001b[0m \u001b[0mself\u001b[0m\u001b[1;33m.\u001b[0m\u001b[0mverbose\u001b[0m\u001b[1;33m,\u001b[0m\u001b[1;33m\u001b[0m\u001b[1;33m\u001b[0m\u001b[0m\n\u001b[0;32m   1548\u001b[0m                 \u001b[0mself\u001b[0m\u001b[1;33m.\u001b[0m\u001b[0mmax_iter\u001b[0m\u001b[1;33m,\u001b[0m \u001b[0mself\u001b[0m\u001b[1;33m.\u001b[0m\u001b[0mtol\u001b[0m\u001b[1;33m,\u001b[0m \u001b[0mself\u001b[0m\u001b[1;33m.\u001b[0m\u001b[0mrandom_state\u001b[0m\u001b[1;33m,\u001b[0m\u001b[1;33m\u001b[0m\u001b[1;33m\u001b[0m\u001b[0m\n\u001b[1;32m-> 1549\u001b[1;33m                 sample_weight=sample_weight)\n\u001b[0m\u001b[0;32m   1550\u001b[0m             \u001b[0mself\u001b[0m\u001b[1;33m.\u001b[0m\u001b[0mn_iter_\u001b[0m \u001b[1;33m=\u001b[0m \u001b[0mnp\u001b[0m\u001b[1;33m.\u001b[0m\u001b[0marray\u001b[0m\u001b[1;33m(\u001b[0m\u001b[1;33m[\u001b[0m\u001b[0mn_iter_\u001b[0m\u001b[1;33m]\u001b[0m\u001b[1;33m)\u001b[0m\u001b[1;33m\u001b[0m\u001b[1;33m\u001b[0m\u001b[0m\n\u001b[0;32m   1551\u001b[0m             \u001b[1;32mreturn\u001b[0m \u001b[0mself\u001b[0m\u001b[1;33m\u001b[0m\u001b[1;33m\u001b[0m\u001b[0m\n",
      "\u001b[1;32m~\\Anaconda3\\envs\\eods-f19\\lib\\site-packages\\sklearn\\svm\\base.py\u001b[0m in \u001b[0;36m_fit_liblinear\u001b[1;34m(X, y, C, fit_intercept, intercept_scaling, class_weight, penalty, dual, verbose, max_iter, tol, random_state, multi_class, loss, epsilon, sample_weight)\u001b[0m\n\u001b[0;32m    919\u001b[0m         \u001b[0mX\u001b[0m\u001b[1;33m,\u001b[0m \u001b[0my_ind\u001b[0m\u001b[1;33m,\u001b[0m \u001b[0msp\u001b[0m\u001b[1;33m.\u001b[0m\u001b[0misspmatrix\u001b[0m\u001b[1;33m(\u001b[0m\u001b[0mX\u001b[0m\u001b[1;33m)\u001b[0m\u001b[1;33m,\u001b[0m \u001b[0msolver_type\u001b[0m\u001b[1;33m,\u001b[0m \u001b[0mtol\u001b[0m\u001b[1;33m,\u001b[0m \u001b[0mbias\u001b[0m\u001b[1;33m,\u001b[0m \u001b[0mC\u001b[0m\u001b[1;33m,\u001b[0m\u001b[1;33m\u001b[0m\u001b[1;33m\u001b[0m\u001b[0m\n\u001b[0;32m    920\u001b[0m         \u001b[0mclass_weight_\u001b[0m\u001b[1;33m,\u001b[0m \u001b[0mmax_iter\u001b[0m\u001b[1;33m,\u001b[0m \u001b[0mrnd\u001b[0m\u001b[1;33m.\u001b[0m\u001b[0mrandint\u001b[0m\u001b[1;33m(\u001b[0m\u001b[0mnp\u001b[0m\u001b[1;33m.\u001b[0m\u001b[0miinfo\u001b[0m\u001b[1;33m(\u001b[0m\u001b[1;34m'i'\u001b[0m\u001b[1;33m)\u001b[0m\u001b[1;33m.\u001b[0m\u001b[0mmax\u001b[0m\u001b[1;33m)\u001b[0m\u001b[1;33m,\u001b[0m\u001b[1;33m\u001b[0m\u001b[1;33m\u001b[0m\u001b[0m\n\u001b[1;32m--> 921\u001b[1;33m         epsilon, sample_weight)\n\u001b[0m\u001b[0;32m    922\u001b[0m     \u001b[1;31m# Regarding rnd.randint(..) in the above signature:\u001b[0m\u001b[1;33m\u001b[0m\u001b[1;33m\u001b[0m\u001b[1;33m\u001b[0m\u001b[0m\n\u001b[0;32m    923\u001b[0m     \u001b[1;31m# seed for srand in range [0..INT_MAX); due to limitations in Numpy\u001b[0m\u001b[1;33m\u001b[0m\u001b[1;33m\u001b[0m\u001b[1;33m\u001b[0m\u001b[0m\n",
      "\u001b[1;31mKeyboardInterrupt\u001b[0m: "
     ]
    }
   ],
   "source": [
    "from sklearn.feature_selection import RFE\n",
    "from sklearn.linear_model import LogisticRegression\n",
    "model = LogisticRegression()\n",
    "rfe = RFE(model,3)\n",
    "rfe = rfe.fit(X, y)\n",
    "print(rfe.support_)\n",
    "print(rfe.ranking_)"
   ]
  },
  {
   "cell_type": "code",
   "execution_count": null,
   "metadata": {},
   "outputs": [],
   "source": [
    "fig, axes = plt.subplots(1, 3, figsize=(12, 8))\n",
    "\n",
    "for x,answer in enumerate(data_ocd.Year.value_counts().sort_index(ascending=True).index.values):\n",
    "    data = data_ocd[(data_ocd['Year'] == answer)]\n",
    "    #print(data.groupby(['NQ31B1']).Year.sum())\n",
    "    data = data.groupby(['NQ31B1']).Year.sum()\n",
    "    left=  [k[0] for k in enumerate(data)]\n",
    "    right=  [k[1] for k in enumerate(data)]\n",
    "    axes[x].bar(left,right,label= (\"Year\" + str(answer)))\n",
    "    axes[x].set_xticks(left, minor=False)\n",
    "    axes[x].set_xticklabels(data.index.values)\n",
    "    axes[x].legend(loc='best')"
   ]
  },
  {
   "cell_type": "code",
   "execution_count": 55,
   "metadata": {},
   "outputs": [
    {
     "data": {
      "text/plain": [
       "2    12790\n",
       "3     5799\n",
       "5     5685\n",
       "4     4299\n",
       "6     1201\n",
       "Name: NQ31B1, dtype: int64"
      ]
     },
     "execution_count": 55,
     "metadata": {},
     "output_type": "execute_result"
    }
   ],
   "source": [
    "data_ocd.NQ31B1[(data_ocd['NQ31B1'] != 1) & (data_ocd['NQ31B1'] != -1)].value_counts()"
   ]
  },
  {
   "cell_type": "code",
   "execution_count": 63,
   "metadata": {},
   "outputs": [
    {
     "data": {
      "text/plain": [
       "NQ31B1  Year\n",
       "-1      1          5616\n",
       "        2         14600\n",
       "        3         14442\n",
       " 1      1        366332\n",
       "        2        964336\n",
       "        3       1028679\n",
       " 2      1          3123\n",
       "        2          9944\n",
       "        3         14085\n",
       " 3      1          1604\n",
       "        2          4320\n",
       "        3          6105\n",
       " 4      1          1061\n",
       "        2          3146\n",
       "        3          4995\n",
       " 5      1          1494\n",
       "        2          4430\n",
       "        3          5928\n",
       " 6      1           354\n",
       "        2           944\n",
       "        3          1125\n",
       "Name: Year, dtype: int64"
      ]
     },
     "execution_count": 63,
     "metadata": {},
     "output_type": "execute_result"
    }
   ],
   "source": [
    "data_ocd.groupby(['NQ31B1','Year'])['Year'].sum()"
   ]
  },
  {
   "cell_type": "code",
   "execution_count": 11,
   "metadata": {},
   "outputs": [],
   "source": [
    "#df1_2.info()"
   ]
  },
  {
   "cell_type": "code",
   "execution_count": 15,
   "metadata": {},
   "outputs": [
    {
     "data": {
      "text/plain": [
       "True"
      ]
     },
     "execution_count": 15,
     "metadata": {},
     "output_type": "execute_result"
    }
   ],
   "source": []
  },
  {
   "cell_type": "code",
   "execution_count": 6,
   "metadata": {},
   "outputs": [],
   "source": [
    "df1_1.update(df1_1.apply(pd.to_numeric, errors='coerce'))"
   ]
  },
  {
   "cell_type": "markdown",
   "metadata": {},
   "source": [
    "Cut NQ31B1 Modify Data into Integer Values Empty Data Values will be changed to -1 and all values will be of integer types. "
   ]
  },
  {
   "cell_type": "markdown",
   "metadata": {},
   "source": [
    "Verify The Sum"
   ]
  },
  {
   "cell_type": "code",
   "execution_count": 6,
   "metadata": {},
   "outputs": [
    {
     "data": {
      "text/plain": [
       "379584"
      ]
     },
     "execution_count": 6,
     "metadata": {},
     "output_type": "execute_result"
    }
   ],
   "source": [
    "sum(df1_NQ.value_counts())"
   ]
  },
  {
   "cell_type": "markdown",
   "metadata": {},
   "source": [
    "Change Series back into data frame"
   ]
  },
  {
   "cell_type": "code",
   "execution_count": 7,
   "metadata": {},
   "outputs": [
    {
     "data": {
      "text/plain": [
       "pandas.core.frame.DataFrame"
      ]
     },
     "execution_count": 7,
     "metadata": {},
     "output_type": "execute_result"
    }
   ],
   "source": [
    "df1_NQ1 = df1_NQ.to_frame()\n",
    "type(df1_NQ1)"
   ]
  },
  {
   "cell_type": "code",
   "execution_count": 8,
   "metadata": {},
   "outputs": [
    {
     "data": {
      "text/html": [
       "<div>\n",
       "<style scoped>\n",
       "    .dataframe tbody tr th:only-of-type {\n",
       "        vertical-align: middle;\n",
       "    }\n",
       "\n",
       "    .dataframe tbody tr th {\n",
       "        vertical-align: top;\n",
       "    }\n",
       "\n",
       "    .dataframe thead th {\n",
       "        text-align: right;\n",
       "    }\n",
       "</style>\n",
       "<table border=\"1\" class=\"dataframe\">\n",
       "  <thead>\n",
       "    <tr style=\"text-align: right;\">\n",
       "      <th></th>\n",
       "      <th>NQ31B1</th>\n",
       "    </tr>\n",
       "  </thead>\n",
       "  <tbody>\n",
       "    <tr>\n",
       "      <th>0</th>\n",
       "      <td>1</td>\n",
       "    </tr>\n",
       "    <tr>\n",
       "      <th>1</th>\n",
       "      <td>1</td>\n",
       "    </tr>\n",
       "    <tr>\n",
       "      <th>2</th>\n",
       "      <td>1</td>\n",
       "    </tr>\n",
       "    <tr>\n",
       "      <th>3</th>\n",
       "      <td>1</td>\n",
       "    </tr>\n",
       "    <tr>\n",
       "      <th>4</th>\n",
       "      <td>1</td>\n",
       "    </tr>\n",
       "  </tbody>\n",
       "</table>\n",
       "</div>"
      ],
      "text/plain": [
       "   NQ31B1\n",
       "0       1\n",
       "1       1\n",
       "2       1\n",
       "3       1\n",
       "4       1"
      ]
     },
     "execution_count": 8,
     "metadata": {},
     "output_type": "execute_result"
    }
   ],
   "source": [
    "df1_NQ1.head()"
   ]
  },
  {
   "cell_type": "code",
   "execution_count": 9,
   "metadata": {},
   "outputs": [
    {
     "data": {
      "text/plain": [
       " 1    366332\n",
       "-1      5616\n",
       " 2      3123\n",
       " 3      1604\n",
       " 5      1494\n",
       " 4      1061\n",
       " 6       354\n",
       "Name: NQ31B1, dtype: int64"
      ]
     },
     "execution_count": 9,
     "metadata": {},
     "output_type": "execute_result"
    }
   ],
   "source": [
    "df1_NQ1['NQ31B1'].value_counts()"
   ]
  },
  {
   "cell_type": "markdown",
   "metadata": {},
   "source": [
    "Add 1 to Every Column Identifyier "
   ]
  },
  {
   "cell_type": "code",
   "execution_count": 10,
   "metadata": {},
   "outputs": [
    {
     "data": {
      "text/plain": [
       "0    1\n",
       "1    1\n",
       "2    1\n",
       "3    1\n",
       "4    1\n",
       "Name: Year, dtype: int64"
      ]
     },
     "execution_count": 10,
     "metadata": {},
     "output_type": "execute_result"
    }
   ],
   "source": [
    "df1_NQ1['Year'] = 1\n",
    "df1_NQ1['Year'].head()"
   ]
  },
  {
   "cell_type": "code",
   "execution_count": 11,
   "metadata": {},
   "outputs": [
    {
     "data": {
      "text/plain": [
       "1"
      ]
     },
     "execution_count": 11,
     "metadata": {},
     "output_type": "execute_result"
    }
   ],
   "source": [
    "df1_NQ1['Year'][0]"
   ]
  },
  {
   "cell_type": "markdown",
   "metadata": {},
   "source": [
    "Process Survery II data"
   ]
  },
  {
   "cell_type": "code",
   "execution_count": 12,
   "metadata": {},
   "outputs": [],
   "source": [
    "TextFileReader2 = pd.read_csv('SurveyII.csv',error_bad_lines=False,chunksize=1000)\n",
    "\n",
    "dfList2 = []\n",
    "for df in TextFileReader2:\n",
    "    dfList2.append(df)\n",
    "    \n",
    "df2 = pd.concat(dfList2,sort=False)"
   ]
  },
  {
   "cell_type": "code",
   "execution_count": 13,
   "metadata": {},
   "outputs": [
    {
     "data": {
      "text/plain": [
       " 1    482168\n",
       "-1      7300\n",
       " 2      4972\n",
       " 5      2215\n",
       " 3      2160\n",
       " 4      1573\n",
       " 6       472\n",
       "Name: NQ31B1, dtype: int64"
      ]
     },
     "execution_count": 13,
     "metadata": {},
     "output_type": "execute_result"
    }
   ],
   "source": [
    "df2_NQ = df2['NQ31B1']\n",
    "df2_NQ[df2_NQ != '1']\n",
    "df2_NQ = df2_NQ.replace(' ',-1)\n",
    "df2_NQ = df2_NQ.astype('int32')\n",
    "df2_NQ.value_counts()"
   ]
  },
  {
   "cell_type": "code",
   "execution_count": 14,
   "metadata": {},
   "outputs": [
    {
     "data": {
      "text/html": [
       "<div>\n",
       "<style scoped>\n",
       "    .dataframe tbody tr th:only-of-type {\n",
       "        vertical-align: middle;\n",
       "    }\n",
       "\n",
       "    .dataframe tbody tr th {\n",
       "        vertical-align: top;\n",
       "    }\n",
       "\n",
       "    .dataframe thead th {\n",
       "        text-align: right;\n",
       "    }\n",
       "</style>\n",
       "<table border=\"1\" class=\"dataframe\">\n",
       "  <thead>\n",
       "    <tr style=\"text-align: right;\">\n",
       "      <th></th>\n",
       "      <th>NQ31B1</th>\n",
       "      <th>Year</th>\n",
       "    </tr>\n",
       "  </thead>\n",
       "  <tbody>\n",
       "    <tr>\n",
       "      <th>0</th>\n",
       "      <td>1</td>\n",
       "      <td>2</td>\n",
       "    </tr>\n",
       "    <tr>\n",
       "      <th>1</th>\n",
       "      <td>1</td>\n",
       "      <td>2</td>\n",
       "    </tr>\n",
       "    <tr>\n",
       "      <th>2</th>\n",
       "      <td>1</td>\n",
       "      <td>2</td>\n",
       "    </tr>\n",
       "    <tr>\n",
       "      <th>3</th>\n",
       "      <td>1</td>\n",
       "      <td>2</td>\n",
       "    </tr>\n",
       "    <tr>\n",
       "      <th>4</th>\n",
       "      <td>1</td>\n",
       "      <td>2</td>\n",
       "    </tr>\n",
       "  </tbody>\n",
       "</table>\n",
       "</div>"
      ],
      "text/plain": [
       "   NQ31B1  Year\n",
       "0       1     2\n",
       "1       1     2\n",
       "2       1     2\n",
       "3       1     2\n",
       "4       1     2"
      ]
     },
     "execution_count": 14,
     "metadata": {},
     "output_type": "execute_result"
    }
   ],
   "source": [
    "df2_NQ2 = df2_NQ.to_frame()\n",
    "df2_NQ2['Year'] = 2\n",
    "df2_NQ2['Year'].head()\n",
    "df2_NQ2.head()"
   ]
  },
  {
   "cell_type": "code",
   "execution_count": 15,
   "metadata": {},
   "outputs": [
    {
     "data": {
      "text/plain": [
       "2"
      ]
     },
     "execution_count": 15,
     "metadata": {},
     "output_type": "execute_result"
    }
   ],
   "source": [
    "df2_NQ2['Year'][0]"
   ]
  },
  {
   "cell_type": "code",
   "execution_count": 35,
   "metadata": {},
   "outputs": [
    {
     "data": {
      "text/plain": [
       "358453"
      ]
     },
     "execution_count": 35,
     "metadata": {},
     "output_type": "execute_result"
    }
   ],
   "source": [
    "len(df3)"
   ]
  },
  {
   "cell_type": "code",
   "execution_count": 17,
   "metadata": {},
   "outputs": [
    {
     "data": {
      "text/plain": [
       " 1    342893\n",
       "-1      4814\n",
       " 2      4695\n",
       " 3      2035\n",
       " 5      1976\n",
       " 4      1665\n",
       " 6       375\n",
       "Name: NQ31B1, dtype: int64"
      ]
     },
     "execution_count": 17,
     "metadata": {},
     "output_type": "execute_result"
    }
   ],
   "source": [
    "df3_NQ = df3['NQ31B1']\n",
    "df3_NQ[df3_NQ != '1']\n",
    "df3_NQ = df3_NQ.replace(' ',-1)\n",
    "df3_NQ = df3_NQ.astype('int32')\n",
    "df3_NQ.value_counts()"
   ]
  },
  {
   "cell_type": "code",
   "execution_count": 18,
   "metadata": {},
   "outputs": [
    {
     "data": {
      "text/plain": [
       "358453"
      ]
     },
     "execution_count": 18,
     "metadata": {},
     "output_type": "execute_result"
    }
   ],
   "source": [
    "len(df3_NQ)"
   ]
  },
  {
   "cell_type": "code",
   "execution_count": 19,
   "metadata": {},
   "outputs": [
    {
     "data": {
      "text/plain": [
       "3"
      ]
     },
     "execution_count": 19,
     "metadata": {},
     "output_type": "execute_result"
    }
   ],
   "source": [
    "df3_NQ3 = df3_NQ.to_frame()\n",
    "df3_NQ3['Year'] = 3\n",
    "df3_NQ3 = df3_NQ3.reset_index(drop=True)\n",
    "df3_NQ3['Year'][0]"
   ]
  },
  {
   "cell_type": "code",
   "execution_count": 31,
   "metadata": {},
   "outputs": [
    {
     "data": {
      "text/plain": [
       "379584"
      ]
     },
     "execution_count": 31,
     "metadata": {},
     "output_type": "execute_result"
    }
   ],
   "source": [
    "len(df1_NQ1)"
   ]
  },
  {
   "cell_type": "code",
   "execution_count": 32,
   "metadata": {},
   "outputs": [
    {
     "data": {
      "text/plain": [
       "500860"
      ]
     },
     "execution_count": 32,
     "metadata": {},
     "output_type": "execute_result"
    }
   ],
   "source": [
    "len(df2_NQ2)"
   ]
  },
  {
   "cell_type": "code",
   "execution_count": 33,
   "metadata": {},
   "outputs": [
    {
     "data": {
      "text/plain": [
       "358453"
      ]
     },
     "execution_count": 33,
     "metadata": {},
     "output_type": "execute_result"
    }
   ],
   "source": [
    "len(df3_NQ3)"
   ]
  },
  {
   "cell_type": "markdown",
   "metadata": {},
   "source": [
    "Combine Data to data_ocd"
   ]
  },
  {
   "cell_type": "code",
   "execution_count": 23,
   "metadata": {},
   "outputs": [
    {
     "name": "stdout",
     "output_type": "stream",
     "text": [
      "<class 'pandas.core.frame.DataFrame'>\n",
      "Int64Index: 1238897 entries, 0 to 358452\n",
      "Data columns (total 2 columns):\n",
      "NQ31B1    1238897 non-null int32\n",
      "Year      1238897 non-null int64\n",
      "dtypes: int32(1), int64(1)\n",
      "memory usage: 23.6 MB\n"
     ]
    }
   ],
   "source": [
    "data_ocd = pd.concat([df1_NQ1,df2_NQ2,df3_NQ3],axis=0,sort = True)\n",
    "data_ocd.head()\n",
    "#data_ocd['Year'] = pd.Categorical(data_ocd['Year'])\n",
    "data_ocd.info()"
   ]
  },
  {
   "cell_type": "code",
   "execution_count": 24,
   "metadata": {},
   "outputs": [],
   "source": [
    "import matplotlib.pyplot as plt"
   ]
  },
  {
   "cell_type": "code",
   "execution_count": 49,
   "metadata": {},
   "outputs": [
    {
     "name": "stdout",
     "output_type": "stream",
     "text": [
      "1238897\n",
      "1209123\n",
      "29774\n",
      "1238897\n"
     ]
    },
    {
     "data": {
      "text/plain": [
       "1    371948\n",
       "2    489468\n",
       "3    347707\n",
       "Name: Year, dtype: int64"
      ]
     },
     "execution_count": 49,
     "metadata": {},
     "output_type": "execute_result"
    }
   ],
   "source": [
    "temp = data_ocd[(data_ocd['NQ31B1'] == 1) | (data_ocd['NQ31B1'] == -1)]\n",
    "temp1 = data_ocd[(data_ocd['NQ31B1'] != 1) & (data_ocd['NQ31B1'] != -1)]\n",
    "print(len(data_ocd))\n",
    "print(len(temp))\n",
    "print(len(temp1))\n",
    "print(len(temp1) + len(temp))\n",
    "temp['Year'].value_counts().sort_index(ascending=True)"
   ]
  },
  {
   "cell_type": "code",
   "execution_count": 50,
   "metadata": {},
   "outputs": [
    {
     "data": {
      "text/plain": [
       "1     7636\n",
       "2    11392\n",
       "3    10746\n",
       "Name: Year, dtype: int64"
      ]
     },
     "execution_count": 50,
     "metadata": {},
     "output_type": "execute_result"
    }
   ],
   "source": [
    "temp1['Year'].value_counts().sort_index(ascending=True)"
   ]
  },
  {
   "cell_type": "code",
   "execution_count": 51,
   "metadata": {},
   "outputs": [
    {
     "data": {
      "text/plain": [
       "1    0.020117\n",
       "2    0.022745\n",
       "3    0.029979\n",
       "Name: Year, dtype: float64"
      ]
     },
     "execution_count": 51,
     "metadata": {},
     "output_type": "execute_result"
    }
   ],
   "source": [
    "value = temp1['Year'].value_counts().sort_index(ascending=True)/[len(df1_NQ1),len(df2_NQ2),len(df3_NQ3)]\n",
    "value"
   ]
  },
  {
   "cell_type": "code",
   "execution_count": 52,
   "metadata": {},
   "outputs": [
    {
     "data": {
      "text/plain": [
       "<matplotlib.axes._subplots.AxesSubplot at 0x2ab1f28fe80>"
      ]
     },
     "execution_count": 52,
     "metadata": {},
     "output_type": "execute_result"
    },
    {
     "data": {
      "image/png": "[encoded data removed]",
      "text/plain": [
       "<Figure size 432x288 with 1 Axes>"
      ]
     },
     "metadata": {},
     "output_type": "display_data"
    }
   ],
   "source": [
    "value.plot(kind='bar')"
   ]
  },
  {
   "cell_type": "code",
   "execution_count": 30,
   "metadata": {},
   "outputs": [
    {
     "data": {
      "text/plain": [
       "<matplotlib.axes._subplots.AxesSubplot at 0x2aba1f2e748>"
      ]
     },
     "execution_count": 30,
     "metadata": {},
     "output_type": "execute_result"
    },
    {
     "data": {
      "image/png": "[encoded data removed]",
      "text/plain": [
       "<Figure size 432x288 with 1 Axes>"
      ]
     },
     "metadata": {},
     "output_type": "display_data"
    }
   ],
   "source": [
    "temp['Year'].value_counts().sort_index(ascending=True).plot(kind=\"bar\")"
   ]
  },
  {
   "cell_type": "code",
   "execution_count": null,
   "metadata": {},
   "outputs": [],
   "source": [
    "print(sum(df['NQ31B1'] == 1))\n",
    "print(sum(df['NQ31B1'] == '1'))\n",
    "print(sum(df['NQ31B1'] != 1))\n",
    "print(sum(df['NQ31B1'] != '1'))"
   ]
  },
  {
   "cell_type": "code",
   "execution_count": null,
   "metadata": {},
   "outputs": [],
   "source": []
  },
  {
   "cell_type": "code",
   "execution_count": null,
   "metadata": {},
   "outputs": [],
   "source": [
    "df2['NQ31B1'].dtypes"
   ]
  },
  {
   "cell_type": "code",
   "execution_count": null,
   "metadata": {},
   "outputs": [],
   "source": [
    "df1['NQ31B1'].dtypes"
   ]
  },
  {
   "cell_type": "code",
   "execution_count": null,
   "metadata": {},
   "outputs": [],
   "source": [
    "df.head()"
   ]
  },
  {
   "cell_type": "code",
   "execution_count": null,
   "metadata": {},
   "outputs": [],
   "source": [
    "df['Year'] = 1"
   ]
  },
  {
   "cell_type": "code",
   "execution_count": null,
   "metadata": {},
   "outputs": [],
   "source": [
    "df1.index"
   ]
  },
  {
   "cell_type": "code",
   "execution_count": null,
   "metadata": {},
   "outputs": [],
   "source": [
    "df1['Year'] = 2"
   ]
  },
  {
   "cell_type": "code",
   "execution_count": null,
   "metadata": {},
   "outputs": [],
   "source": [
    "df1.shape"
   ]
  },
  {
   "cell_type": "code",
   "execution_count": null,
   "metadata": {},
   "outputs": [],
   "source": [
    "df1.head()"
   ]
  },
  {
   "cell_type": "code",
   "execution_count": null,
   "metadata": {},
   "outputs": [],
   "source": [
    "df2['Year'] = 3"
   ]
  },
  {
   "cell_type": "code",
   "execution_count": null,
   "metadata": {},
   "outputs": [],
   "source": [
    "df2.shape"
   ]
  },
  {
   "cell_type": "code",
   "execution_count": null,
   "metadata": {},
   "outputs": [],
   "source": [
    "df2.head()"
   ]
  },
  {
   "cell_type": "code",
   "execution_count": null,
   "metadata": {},
   "outputs": [],
   "source": [
    "data_ocd = pd.concat([df,df1,df2],axis=0,sort = False)"
   ]
  },
  {
   "cell_type": "code",
   "execution_count": null,
   "metadata": {},
   "outputs": [],
   "source": [
    "data_ocd['Year'].head(100)"
   ]
  },
  {
   "cell_type": "code",
   "execution_count": null,
   "metadata": {},
   "outputs": [],
   "source": [
    "data_ocd['NQ31B1'].astype('int32')"
   ]
  },
  {
   "cell_type": "code",
   "execution_count": null,
   "metadata": {},
   "outputs": [],
   "source": [
    "data_ocd['Year'].size"
   ]
  },
  {
   "cell_type": "code",
   "execution_count": null,
   "metadata": {},
   "outputs": [],
   "source": [
    "data_ocd.loc['a'].head()"
   ]
  },
  {
   "cell_type": "code",
   "execution_count": null,
   "metadata": {},
   "outputs": [],
   "source": [
    "print(sum(data_ocd['NQ31B1'] == '1'))\n",
    "print(sum(data_ocd['NQ31B1'] == 1))\n",
    "print(sum(data_ocd['NQ31B1'] != '1'))\n",
    "print(sum(data_ocd['NQ31B1'] != 1))\n",
    "print(203957+80437+970+2118824)\n",
    "\n",
    "print(sum(data_ocd['Year'] == 1))\n",
    "print(sum(data_ocd['Year'] == 2))\n",
    "print(sum(data_ocd['Year'] == 3))\n",
    "print(453 + 880444 + 1238897)"
   ]
  },
  {
   "cell_type": "code",
   "execution_count": null,
   "metadata": {},
   "outputs": [],
   "source": []
  },
  {
   "cell_type": "code",
   "execution_count": null,
   "metadata": {},
   "outputs": [],
   "source": [
    "ocd_treatment = data_ocd[['NQ31B1','Year']]\n",
    "print(ocd_treatment['NQ31B1'].size)\n",
    "\n",
    "g = ocd_treatment[(ocd_treatment['NQ31B1'] != '1') & (ocd_treatment['NQ31B1'] != ' ')]\n",
    "#ocd_treatment[358034]\n",
    "print(g)\n",
    "print(g.size)\n",
    "print(g['Year'].value_counts())\n",
    "print(sum(g['Year'].value_counts()))"
   ]
  }
 ],
 "metadata": {
  "kernelspec": {
   "display_name": "Python 3",
   "language": "python",
   "name": "python3"
  },
  "language_info": {
   "codemirror_mode": {
    "name": "ipython",
    "version": 3
   },
   "file_extension": ".py",
   "mimetype": "text/x-python",
   "name": "python",
   "nbconvert_exporter": "python",
   "pygments_lexer": "ipython3",
   "version": "3.7.4"
  }
 },
 "nbformat": 4,
 "nbformat_minor": 2
}
