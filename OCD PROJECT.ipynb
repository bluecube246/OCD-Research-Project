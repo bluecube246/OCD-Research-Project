{
 "cells": [
  {
   "cell_type": "markdown",
   "metadata": {},
   "source": [
    "<h1>OCD Project</h1>"
   ]
  },
  {
   "cell_type": "code",
   "execution_count": 1,
   "metadata": {},
   "outputs": [],
   "source": [
    "import pandas as pd\n",
    "import numpy as np\n",
    "import matplotlib.pyplot as plt"
   ]
  },
  {
   "cell_type": "markdown",
   "metadata": {},
   "source": [
    "<b>Upload and Clean SurveyI SurveyII SurveyII</b>"
   ]
  },
  {
   "cell_type": "code",
   "execution_count": 2,
   "metadata": {},
   "outputs": [],
   "source": [
    "TextFileReader1 = pd.read_csv('..\\SurveyI.csv',error_bad_lines=False,chunksize=1000)\n",
    "\n",
    "df1List = []\n",
    "for df in TextFileReader1:\n",
    "    df1List.append(df)\n",
    "    \n",
    "df1 = pd.concat(df1List,sort=False)\n",
    "df1 = df1.replace(' ',-1)\n",
    "df1 = df1.astype('int64',errors='ignore')\n",
    "df1 = df1.apply(lambda x: x.astype('int64',errors='ignore'))\n",
    "df1 = df1.apply(lambda x: x.astype('float64',errors='ignore') if x.dtype == 'O' else x)"
   ]
  },
  {
   "cell_type": "code",
   "execution_count": 3,
   "metadata": {},
   "outputs": [],
   "source": [
    "TextFileReader2 = pd.read_csv('..\\SurveyII.csv',error_bad_lines=False,chunksize=1000)\n",
    "\n",
    "dfList2 = []\n",
    "for df in TextFileReader2:\n",
    "    dfList2.append(df)\n",
    "    \n",
    "df2 = pd.concat(dfList2,sort=False)\n",
    "df2 = df2.replace(' ',-1)\n",
    "df2 = df2.astype('int64',errors='ignore')\n",
    "df2 = df2.apply(lambda x: x.astype('int64',errors='ignore'))\n",
    "df2 = df2.apply(lambda x: x.astype('float64',errors='ignore') if x.dtype == 'O' else x)"
   ]
  },
  {
   "cell_type": "code",
   "execution_count": 4,
   "metadata": {},
   "outputs": [],
   "source": [
    "TextFileReader3 = pd.read_csv('..\\SurveyIII.csv',error_bad_lines=False,chunksize=1000)\n",
    "\n",
    "dfList3 = []\n",
    "for df in TextFileReader3:\n",
    "    dfList3.append(df)\n",
    "    \n",
    "df3 = pd.concat(dfList3,sort=False)\n",
    "df3 = df3.replace(' ',-1)\n",
    "df3 = df3.astype('int64',errors='ignore')\n",
    "df3 = df3.apply(lambda x: x.astype('int64',errors='ignore'))\n",
    "df3 = df3.apply(lambda x: x.astype('float64',errors='ignore') if x.dtype == 'O' else x)"
   ]
  },
  {
   "cell_type": "markdown",
   "metadata": {},
   "source": [
    "<h4>Counts of People reported to have OCD</h2>"
   ]
  },
  {
   "cell_type": "code",
   "execution_count": 5,
   "metadata": {},
   "outputs": [
    {
     "name": "stdout",
     "output_type": "stream",
     "text": [
      "Survey I\n",
      " 1    366332\n",
      "-1      5616\n",
      " 2      3123\n",
      " 3      1604\n",
      " 5      1494\n",
      " 4      1061\n",
      " 6       354\n",
      "Name: NQ31B1, dtype: int64\n",
      "Survey II\n",
      " 1    482168\n",
      "-1      7300\n",
      " 2      4972\n",
      " 5      2215\n",
      " 3      2160\n",
      " 4      1573\n",
      " 6       472\n",
      "Name: NQ31B1, dtype: int64\n",
      "Survey III\n",
      " 1    342893\n",
      "-1      4814\n",
      " 2      4695\n",
      " 3      2035\n",
      " 5      1976\n",
      " 4      1665\n",
      " 6       375\n",
      "Name: NQ31B1, dtype: int64\n"
     ]
    }
   ],
   "source": [
    "print(\"Survey I\")\n",
    "print(df1['NQ31B1'].value_counts())\n",
    "print(\"Survey II\")\n",
    "print(df2['NQ31B1'].value_counts())\n",
    "print(\"Survey III\")\n",
    "print(df3['NQ31B1'].value_counts())"
   ]
  },
  {
   "cell_type": "markdown",
   "metadata": {},
   "source": [
    "<h4>Removing Data Points with implausible height weight and BMI</h4>"
   ]
  },
  {
   "cell_type": "code",
   "execution_count": 6,
   "metadata": {},
   "outputs": [],
   "source": [
    "df1['NQ49'] = df1.NQ49_FT * 12 + df1.NQ49_IN"
   ]
  },
  {
   "cell_type": "code",
   "execution_count": 7,
   "metadata": {},
   "outputs": [
    {
     "name": "stdout",
     "output_type": "stream",
     "text": [
      "Data before trim: 379584\n",
      "Data after trim: 363940\n"
     ]
    }
   ],
   "source": [
    "df1_bool = ((df1['NQ49'] >= 47.2441) & (df1['NQ49'] <= 82.6772) & (df1['NQ50'] >= 77.16) & (df1['NQ50'] <= 396.832) & (df1['BMI'] >= 16) & (df1['BMI'] <= 65))\n",
    "print(\"Data before trim: \" + str(len(df1)))\n",
    "print(\"Data after trim: \" + str(len(df1[df1_bool])))\n",
    "df1 = df1[df1_bool]"
   ]
  },
  {
   "cell_type": "code",
   "execution_count": 8,
   "metadata": {},
   "outputs": [
    {
     "name": "stdout",
     "output_type": "stream",
     "text": [
      "Data before trim: 500860\n",
      "Data after trim: 482185\n"
     ]
    }
   ],
   "source": [
    "df2_bool = ((df2['NQ49'] >= 47.2441) & (df2['NQ49'] <= 82.6772) & (df2['NQ50'] >= 77.16) & (df2['NQ50'] <= 396.832) & (df2['BMI'] >= 16) & (df2['BMI'] <= 65))\n",
    "print(\"Data before trim: \" + str(len(df2)))\n",
    "print(\"Data after trim: \" + str(len(df2[df2_bool])))\n",
    "df2 = df2[df2_bool]"
   ]
  },
  {
   "cell_type": "code",
   "execution_count": 9,
   "metadata": {},
   "outputs": [
    {
     "name": "stdout",
     "output_type": "stream",
     "text": [
      "Data before trim: 358453\n",
      "Data after trim: 335756\n"
     ]
    }
   ],
   "source": [
    "df3_bool = ((df3['NQ49'] >= 47.2441) & (df3['NQ49'] <= 82.6772) & (df3['NQ50'] >= 77.16) & (df3['NQ50'] <= 396.832) & (df3['BMI'] >= 16) & (df3['BMI'] <= 65))\n",
    "print(\"Data before trim: \" + str(len(df3)))\n",
    "print(\"Data after trim: \" + str(len(df3[df3_bool])))\n",
    "df3 = df3[df3_bool]"
   ]
  },
  {
   "cell_type": "markdown",
   "metadata": {},
   "source": [
    "<h4>Merge Data Frames</h4>"
   ]
  },
  {
   "cell_type": "code",
   "execution_count": 10,
   "metadata": {},
   "outputs": [],
   "source": [
    "data_ocd = pd.concat([df1,df2,df3],axis=0,sort = True)"
   ]
  },
  {
   "cell_type": "markdown",
   "metadata": {},
   "source": [
    "<h4>Total size of Data Before Trimming</h4>"
   ]
  },
  {
   "cell_type": "code",
   "execution_count": 11,
   "metadata": {},
   "outputs": [
    {
     "data": {
      "text/plain": [
       "(1181881, 185)"
      ]
     },
     "execution_count": 11,
     "metadata": {},
     "output_type": "execute_result"
    }
   ],
   "source": [
    "data_ocd.shape"
   ]
  },
  {
   "cell_type": "markdown",
   "metadata": {},
   "source": [
    "<h4>After Trim</h4>"
   ]
  },
  {
   "cell_type": "code",
   "execution_count": 12,
   "metadata": {},
   "outputs": [
    {
     "data": {
      "text/plain": [
       "(1181881, 185)"
      ]
     },
     "execution_count": 12,
     "metadata": {},
     "output_type": "execute_result"
    }
   ],
   "source": [
    "data_ocd.shape"
   ]
  },
  {
   "cell_type": "markdown",
   "metadata": {},
   "source": [
    "<h4>Delete Unanswered Responses</h4>"
   ]
  },
  {
   "cell_type": "code",
   "execution_count": 13,
   "metadata": {},
   "outputs": [],
   "source": [
    "data_ocd = data_ocd[data_ocd['NQ31B1'] != -1]"
   ]
  },
  {
   "cell_type": "markdown",
   "metadata": {},
   "source": [
    "<h4>Total survey results</h4>"
   ]
  },
  {
   "cell_type": "code",
   "execution_count": 14,
   "metadata": {},
   "outputs": [
    {
     "data": {
      "text/plain": [
       "1    1147667\n",
       "2      12085\n",
       "3       5440\n",
       "5       5387\n",
       "4       4061\n",
       "6       1027\n",
       "Name: NQ31B1, dtype: int64"
      ]
     },
     "execution_count": 14,
     "metadata": {},
     "output_type": "execute_result"
    }
   ],
   "source": [
    "data_ocd['NQ31B1'].value_counts()"
   ]
  },
  {
   "cell_type": "markdown",
   "metadata": {},
   "source": [
    "<h4>After Deleting Unanswered Responses</h4>"
   ]
  },
  {
   "cell_type": "code",
   "execution_count": 15,
   "metadata": {},
   "outputs": [
    {
     "data": {
      "text/plain": [
       "(1175667, 185)"
      ]
     },
     "execution_count": 15,
     "metadata": {},
     "output_type": "execute_result"
    }
   ],
   "source": [
    "data_ocd.shape"
   ]
  },
  {
   "cell_type": "markdown",
   "metadata": {},
   "source": [
    "<h4>Create Label for Plot</h4>"
   ]
  },
  {
   "cell_type": "code",
   "execution_count": 16,
   "metadata": {},
   "outputs": [
    {
     "data": {
      "text/plain": [
       "['Fall2008',\n",
       " 'Spring2009',\n",
       " 'Fall2009',\n",
       " 'Spring2010',\n",
       " 'Fall2010',\n",
       " 'Spring2011',\n",
       " 'Fall2011',\n",
       " 'Spring2012',\n",
       " 'Fall2012',\n",
       " 'Spring2013',\n",
       " 'Fall2013',\n",
       " 'Spring2014',\n",
       " 'Fall2014',\n",
       " 'Spring2015',\n",
       " 'Fall2015',\n",
       " 'Spring2016',\n",
       " 'Fall2016',\n",
       " 'Spring2017',\n",
       " 'Fall2017',\n",
       " 'Spring2018',\n",
       " 'Fall2018']"
      ]
     },
     "execution_count": 16,
     "metadata": {},
     "output_type": "execute_result"
    }
   ],
   "source": [
    "label_ = []\n",
    "k = 0\n",
    "j = 2008\n",
    "for i in range(18,39):\n",
    "    if(k == 0):\n",
    "        label_.append(\"Fall\" + str(j))\n",
    "        k = 1\n",
    "        j += 1\n",
    "    else:\n",
    "        label_.append(\"Spring\" + str(j))\n",
    "        k = 0\n",
    "        \n",
    "label_"
   ]
  },
  {
   "cell_type": "markdown",
   "metadata": {},
   "source": [
    "<h4>OCD Rate Between Terms</h4>"
   ]
  },
  {
   "cell_type": "code",
   "execution_count": 17,
   "metadata": {},
   "outputs": [],
   "source": [
    "def add_value_labels(ax, spacing=5):\n",
    "    \"\"\"Add labels to the end of each bar in a bar chart.\n",
    "\n",
    "    Arguments:\n",
    "        ax (matplotlib.axes.Axes): The matplotlib object containing the axes\n",
    "            of the plot to annotate.\n",
    "        spacing (int): The distance between the labels and the bars.\n",
    "    \"\"\"\n",
    "\n",
    "    # For each bar: Place a label\n",
    "    for rect in ax.patches:\n",
    "        # Get X and Y placement of label from rect.\n",
    "        y_value = rect.get_height()\n",
    "        x_value = rect.get_x() + rect.get_width() / 2\n",
    "\n",
    "        # Number of points between bar and label. Change to your liking.\n",
    "        space = spacing\n",
    "        # Vertical alignment for positive values\n",
    "        va = 'bottom'\n",
    "\n",
    "        # If value of bar is negative: Place label below bar\n",
    "        if y_value < 0:\n",
    "            # Invert space to place label below\n",
    "            space *= -1\n",
    "            # Vertically align label at top\n",
    "            va = 'top'\n",
    "\n",
    "        # Use Y value as label and format number with one decimal place\n",
    "        label = \"{:.2f}%\".format(y_value*100)\n",
    "        #label = str(label * 100) + \"%\"\n",
    "        \n",
    "        # Create annotation\n",
    "        ax.annotate(\n",
    "            label,                      # Use `label` as label\n",
    "            (x_value, y_value),         # Place label at end of the bar\n",
    "            xytext=(0, space),          # Vertically shift label by `space`\n",
    "            textcoords=\"offset points\", # Interpret `xytext` as offset in points\n",
    "            ha='center',                # Horizontally center label\n",
    "            va=va)                      # Vertically align label differently for\n"
   ]
  },
  {
   "cell_type": "code",
   "execution_count": 18,
   "metadata": {},
   "outputs": [
    {
     "data": {
      "image/png": "[encoded data removed]",
      "text/plain": [
       "<Figure size 1224x432 with 1 Axes>"
      ]
     },
     "metadata": {
      "needs_background": "light"
     },
     "output_type": "display_data"
    }
   ],
   "source": [
    "def plot_ocd_ratio(data_ocd):  \n",
    "    \n",
    "    ratio = []\n",
    "    \n",
    "    for x,answer in enumerate(data_ocd.STUDY.value_counts().sort_index(ascending=True).index.values):\n",
    "        data = data_ocd[(data_ocd['STUDY'] == answer)]\n",
    "        ratio.append(data.NQ31B1[(data['NQ31B1'] != 1) & (data['NQ31B1'] != -1)].value_counts().sum() / len(data.NQ31B1))\n",
    "\n",
    "    ocd_plot = pd.DataFrame({'lab':label_, 'val':ratio})\n",
    "    #plt.bar(ocd_plot,label=\"Percent of people who reported OCD\",figsize=(18,6))\n",
    "    ax = ocd_plot.plot.bar(x='lab',y='val',label=\"Percent of people who reported OCD\",figsize=(17,6),color=\"#1f77b4\")\n",
    "    add_value_labels(ax)\n",
    "    \n",
    "    return ocd_plot, ratio\n",
    "\n",
    "ocd_plot, ratio = plot_ocd_ratio(data_ocd)"
   ]
  },
  {
   "cell_type": "markdown",
   "metadata": {},
   "source": [
    "<h1>Update: From here</h1>"
   ]
  },
  {
   "cell_type": "markdown",
   "metadata": {},
   "source": [
    "<h2>Curve Fitting</h2>"
   ]
  },
  {
   "cell_type": "code",
   "execution_count": 19,
   "metadata": {},
   "outputs": [
    {
     "name": "stdout",
     "output_type": "stream",
     "text": [
      "0.00074248406443892\n"
     ]
    }
   ],
   "source": [
    "def trendline(data, order=1):\n",
    "    coeffs = np.polyfit(data.index.values, list(data), order)\n",
    "    slope = coeffs[-2]\n",
    "    return float(slope)\n",
    "\n",
    "slope = trendline(pd.Series(ocd_plot['val']))\n",
    "print(slope)"
   ]
  },
  {
   "cell_type": "code",
   "execution_count": 20,
   "metadata": {},
   "outputs": [],
   "source": [
    "term = [0,1,2,3,4,5,6,7,8,9,10,11,12,13,14,15,16,17,18,19,20]\n",
    "curve = pd.DataFrame({'lab':term, 'val':ratio})"
   ]
  },
  {
   "cell_type": "markdown",
   "metadata": {},
   "source": [
    "Exponential Curve Fitting"
   ]
  },
  {
   "cell_type": "code",
   "execution_count": 21,
   "metadata": {},
   "outputs": [
    {
     "data": {
      "text/plain": [
       "array([-3.61484924e+02,  2.05403252e-06,  3.61502018e+02])"
      ]
     },
     "execution_count": 21,
     "metadata": {},
     "output_type": "execute_result"
    },
    {
     "data": {
      "image/png": "[encoded data removed]",
      "text/plain": [
       "<Figure size 432x288 with 1 Axes>"
      ]
     },
     "metadata": {
      "needs_background": "light"
     },
     "output_type": "display_data"
    }
   ],
   "source": [
    "from pylab import *\n",
    "from scipy.optimize import curve_fit\n",
    "def func(x, a, c, d):\n",
    "    return a*np.exp(-c*x)+d\n",
    "def func2(x, a, b):\n",
    "    return a*x+b\n",
    "popt, pcov = curve_fit(func, term, ratio, p0=(1, 1e-6, 1))\n",
    "xx = np.linspace(0, 20,1000)\n",
    "yy = func(xx, *popt)\n",
    "plt.plot(term,ratio,'ko')\n",
    "plt.plot(xx, yy)\n",
    "popt"
   ]
  },
  {
   "cell_type": "markdown",
   "metadata": {},
   "source": [
    "Linear Regression"
   ]
  },
  {
   "cell_type": "code",
   "execution_count": 22,
   "metadata": {},
   "outputs": [
    {
     "data": {
      "text/plain": [
       "array([0.00074248, 0.01709479])"
      ]
     },
     "execution_count": 22,
     "metadata": {},
     "output_type": "execute_result"
    },
    {
     "data": {
      "image/png": "[encoded data removed]",
      "text/plain": [
       "<Figure size 432x288 with 1 Axes>"
      ]
     },
     "metadata": {
      "needs_background": "light"
     },
     "output_type": "display_data"
    }
   ],
   "source": [
    "def func2(x, a, b):\n",
    "    return a*x+b\n",
    "popt, pcov = curve_fit(func2, term, ratio, p0=(1, 2))\n",
    "xx = np.linspace(0, 20,1000)\n",
    "yy = func2(xx, *popt)\n",
    "plt.plot(term,ratio,'ko')\n",
    "plt.plot(xx, yy)\n",
    "popt"
   ]
  },
  {
   "cell_type": "markdown",
   "metadata": {},
   "source": [
    "Conclusion: A linear fit seems like the correct fit to use"
   ]
  },
  {
   "cell_type": "code",
   "execution_count": 30,
   "metadata": {},
   "outputs": [
    {
     "data": {
      "text/html": [
       "<table class=\"simpletable\">\n",
       "<caption>OLS Regression Results</caption>\n",
       "<tr>\n",
       "  <th>Dep. Variable:</th>           <td>val</td>       <th>  R-squared:         </th> <td>   0.866</td>\n",
       "</tr>\n",
       "<tr>\n",
       "  <th>Model:</th>                   <td>OLS</td>       <th>  Adj. R-squared:    </th> <td>   0.859</td>\n",
       "</tr>\n",
       "<tr>\n",
       "  <th>Method:</th>             <td>Least Squares</td>  <th>  F-statistic:       </th> <td>   123.3</td>\n",
       "</tr>\n",
       "<tr>\n",
       "  <th>Date:</th>             <td>Mon, 30 Dec 2019</td> <th>  Prob (F-statistic):</th> <td>9.51e-10</td>\n",
       "</tr>\n",
       "<tr>\n",
       "  <th>Time:</th>                 <td>13:13:10</td>     <th>  Log-Likelihood:    </th> <td>  103.33</td>\n",
       "</tr>\n",
       "<tr>\n",
       "  <th>No. Observations:</th>      <td>    21</td>      <th>  AIC:               </th> <td>  -202.7</td>\n",
       "</tr>\n",
       "<tr>\n",
       "  <th>Df Residuals:</th>          <td>    19</td>      <th>  BIC:               </th> <td>  -200.6</td>\n",
       "</tr>\n",
       "<tr>\n",
       "  <th>Df Model:</th>              <td>     1</td>      <th>                     </th>     <td> </td>   \n",
       "</tr>\n",
       "<tr>\n",
       "  <th>Covariance Type:</th>      <td>nonrobust</td>    <th>                     </th>     <td> </td>   \n",
       "</tr>\n",
       "</table>\n",
       "<table class=\"simpletable\">\n",
       "<tr>\n",
       "      <td></td>         <th>coef</th>     <th>std err</th>      <th>t</th>      <th>P>|t|</th>  <th>[0.025</th>    <th>0.975]</th>  \n",
       "</tr>\n",
       "<tr>\n",
       "  <th>intercept</th> <td>    0.0171</td> <td>    0.001</td> <td>   21.867</td> <td> 0.000</td> <td>    0.015</td> <td>    0.019</td>\n",
       "</tr>\n",
       "<tr>\n",
       "  <th>lab</th>       <td>    0.0007</td> <td> 6.69e-05</td> <td>   11.103</td> <td> 0.000</td> <td>    0.001</td> <td>    0.001</td>\n",
       "</tr>\n",
       "</table>\n",
       "<table class=\"simpletable\">\n",
       "<tr>\n",
       "  <th>Omnibus:</th>       <td> 3.344</td> <th>  Durbin-Watson:     </th> <td>   1.278</td>\n",
       "</tr>\n",
       "<tr>\n",
       "  <th>Prob(Omnibus):</th> <td> 0.188</td> <th>  Jarque-Bera (JB):  </th> <td>   1.496</td>\n",
       "</tr>\n",
       "<tr>\n",
       "  <th>Skew:</th>          <td> 0.271</td> <th>  Prob(JB):          </th> <td>   0.473</td>\n",
       "</tr>\n",
       "<tr>\n",
       "  <th>Kurtosis:</th>      <td> 1.810</td> <th>  Cond. No.          </th> <td>    22.7</td>\n",
       "</tr>\n",
       "</table><br/><br/>Warnings:<br/>[1] Standard Errors assume that the covariance matrix of the errors is correctly specified."
      ],
      "text/plain": [
       "<class 'statsmodels.iolib.summary.Summary'>\n",
       "\"\"\"\n",
       "                            OLS Regression Results                            \n",
       "==============================================================================\n",
       "Dep. Variable:                    val   R-squared:                       0.866\n",
       "Model:                            OLS   Adj. R-squared:                  0.859\n",
       "Method:                 Least Squares   F-statistic:                     123.3\n",
       "Date:                Mon, 30 Dec 2019   Prob (F-statistic):           9.51e-10\n",
       "Time:                        13:13:10   Log-Likelihood:                 103.33\n",
       "No. Observations:                  21   AIC:                            -202.7\n",
       "Df Residuals:                      19   BIC:                            -200.6\n",
       "Df Model:                           1                                         \n",
       "Covariance Type:            nonrobust                                         \n",
       "==============================================================================\n",
       "                 coef    std err          t      P>|t|      [0.025      0.975]\n",
       "------------------------------------------------------------------------------\n",
       "intercept      0.0171      0.001     21.867      0.000       0.015       0.019\n",
       "lab            0.0007   6.69e-05     11.103      0.000       0.001       0.001\n",
       "==============================================================================\n",
       "Omnibus:                        3.344   Durbin-Watson:                   1.278\n",
       "Prob(Omnibus):                  0.188   Jarque-Bera (JB):                1.496\n",
       "Skew:                           0.271   Prob(JB):                        0.473\n",
       "Kurtosis:                       1.810   Cond. No.                         22.7\n",
       "==============================================================================\n",
       "\n",
       "Warnings:\n",
       "[1] Standard Errors assume that the covariance matrix of the errors is correctly specified.\n",
       "\"\"\""
      ]
     },
     "execution_count": 30,
     "metadata": {},
     "output_type": "execute_result"
    }
   ],
   "source": [
    "import statsmodels.api as sm\n",
    "curve['intercept']=1\n",
    "lm=sm.OLS(curve['val'],curve[['intercept','lab']])\n",
    "slr_results = lm.fit()\n",
    "slr_results.summary()"
   ]
  },
  {
   "cell_type": "markdown",
   "metadata": {},
   "source": [
    "H0: B = 0 Year has no effect on OCD rates. \n",
    "\n",
    "H1: B > 0 Year has positive linear relationship with OCD rates. \n",
    "\n",
    "The p value for the is very small. For a one sided test "
   ]
  },
  {
   "cell_type": "markdown",
   "metadata": {},
   "source": [
    "<h2>Dickey-Fuller test</h2>"
   ]
  },
  {
   "cell_type": "markdown",
   "metadata": {},
   "source": [
    "Ho: Time series is non-stationary\n",
    "\n",
    "H1: Time series is stationary"
   ]
  },
  {
   "cell_type": "code",
   "execution_count": 31,
   "metadata": {},
   "outputs": [],
   "source": [
    "from statsmodels.tsa.stattools import adfuller"
   ]
  },
  {
   "cell_type": "code",
   "execution_count": 39,
   "metadata": {},
   "outputs": [
    {
     "data": {
      "text/plain": [
       "[<matplotlib.lines.Line2D at 0x28a9dd6b0c8>]"
      ]
     },
     "execution_count": 39,
     "metadata": {},
     "output_type": "execute_result"
    },
    {
     "data": {
      "image/png": "[encoded data removed]",
      "text/plain": [
       "<Figure size 432x288 with 1 Axes>"
      ]
     },
     "metadata": {
      "needs_background": "light"
     },
     "output_type": "display_data"
    }
   ],
   "source": [
    "plt.plot(curve['val'])"
   ]
  },
  {
   "cell_type": "code",
   "execution_count": 38,
   "metadata": {},
   "outputs": [
    {
     "name": "stdout",
     "output_type": "stream",
     "text": [
      "ADF Statistic: 1.958793\n",
      "p-value 0.998617\n",
      "Critical Values:\n",
      "\t1%: -4.138\n",
      "\t5%: -3.155\n",
      "\t10%: -2.714\n",
      "Failed to Reject Ho - Time series is Non-Stationary\n"
     ]
    }
   ],
   "source": [
    "X = curve['val'].values\n",
    "result = adfuller(X)\n",
    "print('ADF Statistic: %f' % result[0])\n",
    "print('p-value %f' % result[1])\n",
    "print('Critical Values:')\n",
    "for key, value in result[4].items():\n",
    "    print('\\t%s: %.3f' % (key,value))\n",
    "    \n",
    "if result[0] < result[4][\"5%\"]:\n",
    "    print(\"Reject H0 - Time Series is Stationary\")\n",
    "else:\n",
    "    print(\"Failed to Reject Ho - Time series is Non-Stationary\")"
   ]
  },
  {
   "cell_type": "markdown",
   "metadata": {},
   "source": [
    "<h1> Update: Up to Here </h1>"
   ]
  },
  {
   "cell_type": "markdown",
   "metadata": {},
   "source": [
    "<h4>Stacked Bar Chart</h4>"
   ]
  },
  {
   "cell_type": "code",
   "execution_count": 23,
   "metadata": {},
   "outputs": [
    {
     "data": {
      "text/plain": [
       "0    1147667\n",
       "2      15915\n",
       "1      12085\n",
       "Name: Treated, dtype: int64"
      ]
     },
     "execution_count": 23,
     "metadata": {},
     "output_type": "execute_result"
    }
   ],
   "source": [
    "data_ocd['Treated'] = 2\n",
    "data_ocd.loc[data_ocd['NQ31B1'] == -1,'Treated'] = 0\n",
    "data_ocd.loc[data_ocd['NQ31B1'] == 1,'Treated'] = 0\n",
    "data_ocd.loc[data_ocd['NQ31B1'] == 2,'Treated'] = 1\n",
    "data_ocd.Treated.value_counts()"
   ]
  },
  {
   "cell_type": "code",
   "execution_count": 24,
   "metadata": {},
   "outputs": [],
   "source": [
    "study_value = data_ocd['STUDY'].value_counts(sort=False)\n",
    "pivot_df = data_ocd[data_ocd.Treated != 0].pivot_table(index = ['STUDY'],columns=['Treated'],aggfunc = 'size',observed=True)\n",
    "pivot_df = pivot_df.div(study_value,axis=0)\n",
    "pivot_df = pivot_df.multiply(100)"
   ]
  },
  {
   "cell_type": "code",
   "execution_count": 26,
   "metadata": {},
   "outputs": [
    {
     "data": {
      "image/png": "[encoded data removed]",
      "text/plain": [
       "<Figure size 1224x432 with 1 Axes>"
      ]
     },
     "metadata": {
      "needs_background": "light"
     },
     "output_type": "display_data"
    }
   ],
   "source": [
    "ax = pivot_df.plot.bar(stacked=True,figsize=(17,6))\n",
    "ax.set_xticklabels(label_)\n",
    "ax.set_ylabel(\"Percentage\")\n",
    "height_prev = np.zeros(21)\n",
    "#print(len(height_prev))\n",
    "#print(height_prev)\n",
    "patch = 0\n",
    "for i in range(1,3):\n",
    "    #print(height_prev)\n",
    "    j = 0\n",
    "    for rec, label in zip(ax.patches,pivot_df[i].round(2).astype(str)): \n",
    "        #print(rec)\n",
    "        height = rec.get_height()\n",
    "        height = ax.patches[patch].get_height()\n",
    "        #print(height,height_prev[j],(height/2 + height_prev[j]))\n",
    "        ax.text(rec.get_x() + rec.get_width() / 2, (height/2 + height_prev[j]), label,\n",
    "               ha = 'center', va='bottom')\n",
    "        #print(height,height_prev[j])\n",
    "        height_prev[j] = height + height_prev[j]\n",
    "        j += 1\n",
    "        patch += 1\n",
    "\n",
    "ax.set_xticklabels(label_);"
   ]
  },
  {
   "cell_type": "code",
   "execution_count": null,
   "metadata": {},
   "outputs": [],
   "source": [
    "study_value = data_ocd['STUDY'].value_counts(sort=False)"
   ]
  },
  {
   "cell_type": "code",
   "execution_count": null,
   "metadata": {},
   "outputs": [],
   "source": [
    "pivot_df = data_ocd[data_ocd.NQ31B1 != 1].pivot_table(index = ['STUDY'],columns=['NQ31B1'],aggfunc = 'size',observed=True)"
   ]
  },
  {
   "cell_type": "code",
   "execution_count": null,
   "metadata": {},
   "outputs": [],
   "source": [
    "pivot_df = pivot_df.div(study_value,axis=0)"
   ]
  },
  {
   "cell_type": "code",
   "execution_count": null,
   "metadata": {},
   "outputs": [],
   "source": [
    "pivot_df = pivot_df.multiply(100)"
   ]
  },
  {
   "cell_type": "code",
   "execution_count": null,
   "metadata": {},
   "outputs": [],
   "source": [
    "ax = pivot_df.plot.bar(stacked=True,figsize=(17,6))\n",
    "ax.set_xticklabels(label)\n",
    "ax.set_ylabel(\"Percentage\")\n",
    "height_prev = np.zeros(21)\n",
    "#print(len(height_prev))\n",
    "#print(height_prev)\n",
    "patch = 0\n",
    "for i in range(2,7):\n",
    "    #print(height_prev)\n",
    "    j = 0\n",
    "    for rec, label in zip(ax.patches,pivot_df[i].round(2).astype(str)): \n",
    "        #print(rec)\n",
    "        height = rec.get_height()\n",
    "        height = ax.patches[patch].get_height()\n",
    "        #print(height,height_prev[j],(height/2 + height_prev[j]))\n",
    "        ax.text(rec.get_x() + rec.get_width() / 2, (height/2 + height_prev[j]), label,\n",
    "               ha = 'center', va='bottom')\n",
    "        #print(height,height_prev[j])\n",
    "        height_prev[j] = height + height_prev[j]\n",
    "        j += 1\n",
    "        patch += 1\n",
    "\n",
    "\n",
    "ax.set_xticklabels(label_);"
   ]
  },
  {
   "cell_type": "markdown",
   "metadata": {},
   "source": [
    "<h4>OCD Report By Year</h4>"
   ]
  },
  {
   "cell_type": "code",
   "execution_count": null,
   "metadata": {},
   "outputs": [],
   "source": [
    "label_year = []\n",
    "for i in range(2008,2019):\n",
    "    label_year.append(i)\n",
    "label_year"
   ]
  },
  {
   "cell_type": "code",
   "execution_count": null,
   "metadata": {},
   "outputs": [],
   "source": [
    "def ocd_year(data_ocd):  \n",
    "    \n",
    "    ratio = []\n",
    "    temp_prevalence = 0\n",
    "    temp_length = 0\n",
    "    \n",
    "    for x,answer in enumerate(data_ocd.STUDY.value_counts().sort_index(ascending=True).index.values):\n",
    "        data = data_ocd[(data_ocd['STUDY'] == answer)]\n",
    "        temp_prevalence += data.NQ31B1[(data['NQ31B1'] != 1) & (data['NQ31B1'] != -1)].value_counts().sum() \n",
    "        temp_length += len(data.NQ31B1)\n",
    "        if(answer % 2 == 0):\n",
    "            ratio.append(temp_prevalence * 1.0 / temp_length)\n",
    "            temp_prevalence = 0\n",
    "            temp_length = 0\n",
    "\n",
    "    ocd_plot = pd.DataFrame({'lab':label_year, 'val':ratio})\n",
    "    #plt.bar(ocd_plot,label=\"Percent of people who reported OCD\",figsize=(18,6))\n",
    "    ax = ocd_plot.plot.bar(x='lab',y='val',label=\"Percent of people who reported OCD\",figsize=(17,6),color=\"#1f77b4\")\n",
    "    add_value_labels(ax)\n",
    "\n",
    "ocd_year(data_ocd)"
   ]
  },
  {
   "cell_type": "markdown",
   "metadata": {},
   "source": [
    "<h4>Seasonal Trends</h4>"
   ]
  },
  {
   "cell_type": "code",
   "execution_count": null,
   "metadata": {},
   "outputs": [],
   "source": [
    "fig, axes = plt.subplots(2, 1, figsize=(12, 20))\n",
    "\n",
    "def ocd_year(data_ocd):  \n",
    "    \n",
    "    ratio_Fall = []\n",
    "    ratio_Spring = []\n",
    "    \n",
    "    for x,answer in enumerate(data_ocd.STUDY.value_counts().sort_index(ascending=True).index.values):\n",
    "        data = data_ocd[(data_ocd['STUDY'] == answer)]\n",
    "        if(answer % 2 == 0): # Fall\n",
    "            ratio_Fall.append(data.NQ31B1[(data['NQ31B1'] != 1) & (data['NQ31B1'] != -1)].value_counts().sum() / len(data.NQ31B1))\n",
    "        else:\n",
    "            ratio_Spring.append(data.NQ31B1[(data['NQ31B1'] != 1) & (data['NQ31B1'] != -1)].value_counts().sum() / len(data.NQ31B1))\n",
    "    \n",
    "    plot_fall = pd.DataFrame({'lab':label[::2], 'val':ratio_Fall})\n",
    "    plot_fall.plot.bar(x='lab',y='val',label=\"Percent of people who reported OCD\",figsize=(17,6),color=\"#1f77b4\", ax = axes[0])\n",
    "    add_value_labels(axes[0])\n",
    "    \n",
    "    label_Spring = label[1::2]\n",
    "    label_Spring.insert(0,\"\")\n",
    "    ratio_Spring.insert(0,0)\n",
    "    plot_spring = pd.DataFrame({'lab':label_Spring, 'val':ratio_Spring})\n",
    "    plot_spring.plot.bar(x='lab',y='val',label=\"Percent of people who reported OCD\",figsize=(17,6),color=\"#1f77b4\", ax = axes[1])\n",
    "    add_value_labels(axes[1])\n",
    "    fig.tight_layout()\n",
    "    \n",
    "ocd_year(data_ocd)"
   ]
  },
  {
   "cell_type": "markdown",
   "metadata": {},
   "source": [
    "<b>Graph of responses per year</b>"
   ]
  },
  {
   "cell_type": "code",
   "execution_count": null,
   "metadata": {},
   "outputs": [],
   "source": [
    "fig, axes = plt.subplots(3, 7, figsize=(15, 6))\n",
    "i = 0\n",
    "j = 0\n",
    "for x,answer in enumerate(data_ocd.STUDY.value_counts().sort_index(ascending=True).index.values):\n",
    "    data = data_ocd[(data_ocd['STUDY'] == answer)]\n",
    "    data = data.groupby(['NQ31B1']).STUDY.sum()\n",
    "    left=  [k[0] for k in enumerate(data)]\n",
    "    right=  [k[1] for k in enumerate(data)]\n",
    "    axes[j,i].bar(left,right,label= (label[7*j + i]),log=True)\n",
    "    axes[j,i].set_xticks(left, minor=False)\n",
    "    axes[j,i].set_xticklabels(data.index.values)\n",
    "    axes[j,i].legend(loc='best')\n",
    "    if(i == 6):\n",
    "        i = 0\n",
    "        j += 1\n",
    "    else:\n",
    "        i += 1\n",
    "    "
   ]
  },
  {
   "cell_type": "markdown",
   "metadata": {},
   "source": [
    "<h4>Graph Percentages of responses by year</h4>"
   ]
  },
  {
   "cell_type": "code",
   "execution_count": null,
   "metadata": {},
   "outputs": [],
   "source": [
    "fig, axes = plt.subplots(3, 7, figsize=(15, 6))\n",
    "i = 0\n",
    "j = 0\n",
    "for x,answer in enumerate(data_ocd.STUDY.value_counts().sort_index(ascending=True).index.values):\n",
    "    data = data_ocd[(data_ocd['STUDY'] == answer)]\n",
    "    data = data.groupby(['NQ31B1']).STUDY.sum() / sum(data.groupby(['NQ31B1']).STUDY.sum()) * 100\n",
    "    left=  [k[0] for k in enumerate(data)]\n",
    "    right=  [k[1] for k in enumerate(data)]\n",
    "    axes[j,i].bar(left,right,label= (label[7*j + i]))\n",
    "    axes[j,i].set_xticks(left, minor=False)\n",
    "    axes[j,i].set_xticklabels(data.index.values)\n",
    "    axes[j,i].legend(loc='best')\n",
    "    axes[j,i].set_ylim(0,3)\n",
    "    if(i == 6):\n",
    "        i = 0\n",
    "        j += 1\n",
    "    else:\n",
    "        i += 1\n",
    "    "
   ]
  },
  {
   "cell_type": "markdown",
   "metadata": {},
   "source": [
    "<h4>Drop all columns that aren't in all the datasets</h4>"
   ]
  },
  {
   "cell_type": "code",
   "execution_count": null,
   "metadata": {},
   "outputs": [],
   "source": [
    "data_ocd = data_ocd.dropna(axis=1)"
   ]
  },
  {
   "cell_type": "code",
   "execution_count": null,
   "metadata": {},
   "outputs": [],
   "source": [
    "data_ocd.info()"
   ]
  }
 ],
 "metadata": {
  "kernelspec": {
   "display_name": "Python 3",
   "language": "python",
   "name": "python3"
  },
  "language_info": {
   "codemirror_mode": {
    "name": "ipython",
    "version": 3
   },
   "file_extension": ".py",
   "mimetype": "text/x-python",
   "name": "python",
   "nbconvert_exporter": "python",
   "pygments_lexer": "ipython3",
   "version": "3.7.4"
  }
 },
 "nbformat": 4,
 "nbformat_minor": 2
}
